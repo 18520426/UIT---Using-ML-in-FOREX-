{
  "nbformat": 4,
  "nbformat_minor": 0,
  "metadata": {
    "accelerator": "GPU",
    "colab": {
      "name": "predict (2).ipynb",
      "provenance": [],
      "collapsed_sections": [
        "v5rTQvTGYPwu",
        "fYiJbdX-qgXb",
        "yeD1KAu7qrKU",
        "Sw2YYOSdm818",
        "Jakoc25D0XlY",
        "1SCLSaLwQZZx",
        "3ZLcHMWL6rf7"
      ],
      "toc_visible": true
    },
    "kernelspec": {
      "display_name": "Python 3",
      "name": "python3"
    },
    "language_info": {
      "name": "python"
    }
  },
  "cells": [
    {
      "cell_type": "markdown",
      "metadata": {
        "id": "v5rTQvTGYPwu"
      },
      "source": [
        "#Import"
      ]
    },
    {
      "cell_type": "code",
      "metadata": {
        "colab": {
          "base_uri": "https://localhost:8080/"
        },
        "id": "UStMh99i_rm_",
        "outputId": "426315b5-7d03-42b7-f1c6-f8662e4dcc64"
      },
      "source": [
        "#!virtualenv -p python3 virtualenvironment\n",
        "#!source virtualenvironment/bin/activate\n",
        "!pip install ta"
      ],
      "execution_count": null,
      "outputs": [
        {
          "output_type": "stream",
          "text": [
            "Requirement already satisfied: ta in /usr/local/lib/python3.7/dist-packages (0.7.0)\n",
            "Requirement already satisfied: numpy in /usr/local/lib/python3.7/dist-packages (from ta) (1.19.5)\n",
            "Requirement already satisfied: pandas in /usr/local/lib/python3.7/dist-packages (from ta) (1.1.5)\n",
            "Requirement already satisfied: python-dateutil>=2.7.3 in /usr/local/lib/python3.7/dist-packages (from pandas->ta) (2.8.1)\n",
            "Requirement already satisfied: pytz>=2017.2 in /usr/local/lib/python3.7/dist-packages (from pandas->ta) (2018.9)\n",
            "Requirement already satisfied: six>=1.5 in /usr/local/lib/python3.7/dist-packages (from python-dateutil>=2.7.3->pandas->ta) (1.15.0)\n"
          ],
          "name": "stdout"
        }
      ]
    },
    {
      "cell_type": "code",
      "metadata": {
        "colab": {
          "base_uri": "https://localhost:8080/"
        },
        "id": "zGdTncx3xa5D",
        "outputId": "51dc0f9b-329e-4969-9ec6-f79db4d76833"
      },
      "source": [
        "!pip install catboost"
      ],
      "execution_count": null,
      "outputs": [
        {
          "output_type": "stream",
          "text": [
            "Requirement already satisfied: catboost in /usr/local/lib/python3.7/dist-packages (0.26)\n",
            "Requirement already satisfied: graphviz in /usr/local/lib/python3.7/dist-packages (from catboost) (0.10.1)\n",
            "Requirement already satisfied: pandas>=0.24.0 in /usr/local/lib/python3.7/dist-packages (from catboost) (1.1.5)\n",
            "Requirement already satisfied: scipy in /usr/local/lib/python3.7/dist-packages (from catboost) (1.4.1)\n",
            "Requirement already satisfied: numpy>=1.16.0 in /usr/local/lib/python3.7/dist-packages (from catboost) (1.19.5)\n",
            "Requirement already satisfied: matplotlib in /usr/local/lib/python3.7/dist-packages (from catboost) (3.2.2)\n",
            "Requirement already satisfied: plotly in /usr/local/lib/python3.7/dist-packages (from catboost) (4.4.1)\n",
            "Requirement already satisfied: six in /usr/local/lib/python3.7/dist-packages (from catboost) (1.15.0)\n",
            "Requirement already satisfied: pytz>=2017.2 in /usr/local/lib/python3.7/dist-packages (from pandas>=0.24.0->catboost) (2018.9)\n",
            "Requirement already satisfied: python-dateutil>=2.7.3 in /usr/local/lib/python3.7/dist-packages (from pandas>=0.24.0->catboost) (2.8.1)\n",
            "Requirement already satisfied: pyparsing!=2.0.4,!=2.1.2,!=2.1.6,>=2.0.1 in /usr/local/lib/python3.7/dist-packages (from matplotlib->catboost) (2.4.7)\n",
            "Requirement already satisfied: kiwisolver>=1.0.1 in /usr/local/lib/python3.7/dist-packages (from matplotlib->catboost) (1.3.1)\n",
            "Requirement already satisfied: cycler>=0.10 in /usr/local/lib/python3.7/dist-packages (from matplotlib->catboost) (0.10.0)\n",
            "Requirement already satisfied: retrying>=1.3.3 in /usr/local/lib/python3.7/dist-packages (from plotly->catboost) (1.3.3)\n"
          ],
          "name": "stdout"
        }
      ]
    },
    {
      "cell_type": "code",
      "metadata": {
        "id": "f959T6c5-Z55"
      },
      "source": [
        "import pandas as pd\n",
        "import numpy as np\n",
        "import matplotlib.pyplot as plt\n",
        "import csv"
      ],
      "execution_count": null,
      "outputs": []
    },
    {
      "cell_type": "code",
      "metadata": {
        "id": "ZzFDobtl_uEs"
      },
      "source": [
        "from sklearn.model_selection import train_test_split # for the initial split to a train set and a untouched test set \n",
        "from sklearn.model_selection import TimeSeriesSplit # for roll forward cross vallidation\n",
        "from sklearn import metrics\n",
        "from sklearn import tree\n",
        "from sklearn.preprocessing import StandardScaler\n",
        "from sklearn.ensemble import RandomForestRegressor\n",
        "from sklearn.metrics import accuracy_score"
      ],
      "execution_count": null,
      "outputs": []
    },
    {
      "cell_type": "code",
      "metadata": {
        "id": "Tew40JTv_wzU"
      },
      "source": [
        "import graphviz\n",
        "from textblob import TextBlob\n",
        "import re\n",
        "from ta import add_all_ta_features"
      ],
      "execution_count": null,
      "outputs": []
    },
    {
      "cell_type": "code",
      "metadata": {
        "id": "6y5aS1f8xdyV"
      },
      "source": [
        "from sklearn.decomposition import PCA\n",
        "from sklearn.neighbors import NeighborhoodComponentsAnalysis\n",
        "from sklearn.ensemble import RandomForestClassifier\n",
        "from xgboost import XGBClassifier\n",
        "from catboost import CatBoostClassifier\n",
        "from sklearn.neural_network import MLPClassifier\n",
        "from sklearn.gaussian_process import GaussianProcessClassifier\n",
        "from sklearn.svm import SVC\n",
        "from sklearn.metrics import confusion_matrix\n",
        "from sklearn.gaussian_process.kernels import RBF"
      ],
      "execution_count": null,
      "outputs": []
    },
    {
      "cell_type": "markdown",
      "metadata": {
        "id": "fYiJbdX-qgXb"
      },
      "source": [
        "#READ DATA"
      ]
    },
    {
      "cell_type": "code",
      "metadata": {
        "id": "DLYWvOax_5RQ"
      },
      "source": [
        "df=pd.read_csv(\"/content/GBPNZD_Candlestick_1_D_BID_13.04.2009-13.04.2021.csv\", index_col=0, parse_dates=True)"
      ],
      "execution_count": null,
      "outputs": []
    },
    {
      "cell_type": "code",
      "metadata": {
        "colab": {
          "base_uri": "https://localhost:8080/"
        },
        "id": "K-N2PuvA_5xU",
        "outputId": "b0ab77d3-36de-4fc5-c7b2-c337ee7d0a32"
      },
      "source": [
        "df.head()"
      ],
      "execution_count": null,
      "outputs": [
        {
          "output_type": "execute_result",
          "data": {
            "text/html": [
              "<div>\n",
              "<style scoped>\n",
              "    .dataframe tbody tr th:only-of-type {\n",
              "        vertical-align: middle;\n",
              "    }\n",
              "\n",
              "    .dataframe tbody tr th {\n",
              "        vertical-align: top;\n",
              "    }\n",
              "\n",
              "    .dataframe thead th {\n",
              "        text-align: right;\n",
              "    }\n",
              "</style>\n",
              "<table border=\"1\" class=\"dataframe\">\n",
              "  <thead>\n",
              "    <tr style=\"text-align: right;\">\n",
              "      <th></th>\n",
              "      <th>Open</th>\n",
              "      <th>High</th>\n",
              "      <th>Low</th>\n",
              "      <th>Close</th>\n",
              "      <th>Volume</th>\n",
              "    </tr>\n",
              "    <tr>\n",
              "      <th>Local time</th>\n",
              "      <th></th>\n",
              "      <th></th>\n",
              "      <th></th>\n",
              "      <th></th>\n",
              "      <th></th>\n",
              "    </tr>\n",
              "  </thead>\n",
              "  <tbody>\n",
              "    <tr>\n",
              "      <th>2009-12-04 04:00:00-07:00</th>\n",
              "      <td>2.50525</td>\n",
              "      <td>2.50525</td>\n",
              "      <td>2.50525</td>\n",
              "      <td>2.50525</td>\n",
              "      <td>0.0000</td>\n",
              "    </tr>\n",
              "    <tr>\n",
              "      <th>2009-04-13 04:00:00-07:00</th>\n",
              "      <td>2.49060</td>\n",
              "      <td>2.52337</td>\n",
              "      <td>2.48594</td>\n",
              "      <td>2.50298</td>\n",
              "      <td>21482.2000</td>\n",
              "    </tr>\n",
              "    <tr>\n",
              "      <th>2009-04-14 04:00:00-07:00</th>\n",
              "      <td>2.50208</td>\n",
              "      <td>2.55896</td>\n",
              "      <td>2.50144</td>\n",
              "      <td>2.55195</td>\n",
              "      <td>21510.0001</td>\n",
              "    </tr>\n",
              "    <tr>\n",
              "      <th>2009-04-15 04:00:00-07:00</th>\n",
              "      <td>2.55232</td>\n",
              "      <td>2.60876</td>\n",
              "      <td>2.55193</td>\n",
              "      <td>2.57813</td>\n",
              "      <td>21560.1999</td>\n",
              "    </tr>\n",
              "    <tr>\n",
              "      <th>2009-04-16 04:00:00-07:00</th>\n",
              "      <td>2.57827</td>\n",
              "      <td>2.63153</td>\n",
              "      <td>2.57360</td>\n",
              "      <td>2.60194</td>\n",
              "      <td>21566.3999</td>\n",
              "    </tr>\n",
              "  </tbody>\n",
              "</table>\n",
              "</div>"
            ],
            "text/plain": [
              "                              Open     High      Low    Close      Volume\n",
              "Local time                                                               \n",
              "2009-12-04 04:00:00-07:00  2.50525  2.50525  2.50525  2.50525      0.0000\n",
              "2009-04-13 04:00:00-07:00  2.49060  2.52337  2.48594  2.50298  21482.2000\n",
              "2009-04-14 04:00:00-07:00  2.50208  2.55896  2.50144  2.55195  21510.0001\n",
              "2009-04-15 04:00:00-07:00  2.55232  2.60876  2.55193  2.57813  21560.1999\n",
              "2009-04-16 04:00:00-07:00  2.57827  2.63153  2.57360  2.60194  21566.3999"
            ]
          },
          "metadata": {
            "tags": []
          },
          "execution_count": 8
        }
      ]
    },
    {
      "cell_type": "code",
      "metadata": {
        "colab": {
          "base_uri": "https://localhost:8080/"
        },
        "id": "2cyZ6lAG_8DV",
        "outputId": "8353873e-149e-4166-e834-a7cd706f4c5e"
      },
      "source": [
        "df=df.dropna()\n",
        "df.shape"
      ],
      "execution_count": null,
      "outputs": [
        {
          "output_type": "execute_result",
          "data": {
            "text/plain": [
              "(4385, 5)"
            ]
          },
          "metadata": {
            "tags": []
          },
          "execution_count": 9
        }
      ]
    },
    {
      "cell_type": "code",
      "metadata": {
        "colab": {
          "base_uri": "https://localhost:8080/"
        },
        "id": "V6A7nNkjAGmc",
        "outputId": "fc5c8689-6e26-4b86-b6fd-0f1e5086acaf"
      },
      "source": [
        "df = df[df.Volume != 0]\n",
        "df.shape"
      ],
      "execution_count": null,
      "outputs": [
        {
          "output_type": "execute_result",
          "data": {
            "text/plain": [
              "(3125, 5)"
            ]
          },
          "metadata": {
            "tags": []
          },
          "execution_count": 10
        }
      ]
    },
    {
      "cell_type": "markdown",
      "metadata": {
        "id": "LWcwDO2Jnodr"
      },
      "source": [
        "#Preprocess\n"
      ]
    },
    {
      "cell_type": "markdown",
      "metadata": {
        "id": "yeD1KAu7qrKU"
      },
      "source": [
        "##Feature engineering"
      ]
    },
    {
      "cell_type": "code",
      "metadata": {
        "id": "nj59u8etzEvj"
      },
      "source": [
        "from ta.trend import EMAIndicator as EMA\n",
        "from ta.trend import ADXIndicator as ADX\n",
        "from ta.trend import CCIIndicator as CCI\n",
        "from ta.trend import MACD \n",
        "from ta.trend import IchimokuIndicator as ichimoku\n",
        "from ta.trend import PSARIndicator as PSAR\n",
        "from ta.momentum import RSIIndicator as RSI\n",
        "from ta.momentum import StochasticOscillator as oscillator\n",
        "from ta.momentum import KAMAIndicator as KAMA\n",
        "from ta.momentum import PercentagePriceOscillator as PPO\n",
        "from ta.momentum import PercentageVolumeOscillator as PVO\n",
        "from ta.momentum import StochRSIIndicator as stochrsi\n",
        "from ta.momentum import TSIIndicator as TSI\n",
        "from ta.momentum import UltimateOscillator as Uoscillator\n",
        "from ta.momentum import WilliamsRIndicator as williamsR\n",
        "from ta.momentum import ROCIndicator as ROC\n",
        "from ta.volume import OnBalanceVolumeIndicator as OBV\n",
        "from ta.volume import AccDistIndexIndicator as ADI\n",
        "from ta.volume import ChaikinMoneyFlowIndicator as CMF\n",
        "from ta.volume import EaseOfMovementIndicator as EMV\n",
        "from ta.volume import ForceIndexIndicator as FI \n",
        "from ta.volume import MFIIndicator as MFI\n",
        "from ta.volume import NegativeVolumeIndexIndicator as NVI\n",
        "from ta.volume import VolumePriceTrendIndicator as VPT\n",
        "from ta.volume import VolumeWeightedAveragePrice as VWAP\n",
        "from ta.volatility import AverageTrueRange as ATR\n",
        "from ta.volatility import DonchianChannel as donchian\n",
        "from ta.volatility import KeltnerChannel as keltner\n",
        "from ta.volatility import UlcerIndex as ULI\n",
        "from ta.volatility import BollingerBands as blgband\n",
        "\n",
        "def trend(close,next,percent):\n",
        "  dff = []\n",
        "  for i in range(len(close)):\n",
        "    if ( abs(next[i]-close[i])/close[i] < percent/100 ): # next = close\n",
        "      dff.append(0)\n",
        "    else:\n",
        "      if ( next[i] - close[i] < 0  ): # next < close\n",
        "        dff.append(2)\n",
        "      else:\n",
        "        #if ( next[i] - close[i] > 0 ): # next > close\n",
        "        dff.append(1)\n",
        "  #dff.append(0)\n",
        "  return dff\n",
        "def trend2(close,high,low):\n",
        "  dff=[]\n",
        "  for i in range(len(close)):\n",
        "    if (low[i] - close[i] > 0):\n",
        "      dff.append(1)\n",
        "    else:\n",
        "      if (high[i] - close[i] < 0):\n",
        "        dff.append(2)\n",
        "      else:\n",
        "        dff.append(0)\n",
        "  return dff"
      ],
      "execution_count": null,
      "outputs": []
    },
    {
      "cell_type": "code",
      "metadata": {
        "id": "3KhQn9ZZ_-dl"
      },
      "source": [
        "ema_short_period=10\n",
        "ema_long_period=30\n",
        "rsi_period=14"
      ],
      "execution_count": null,
      "outputs": []
    },
    {
      "cell_type": "code",
      "metadata": {
        "colab": {
          "base_uri": "https://localhost:8080/"
        },
        "id": "bgISHl3LAJU9",
        "outputId": "a04942d6-d487-41dd-95b8-f0a1cc853a56"
      },
      "source": [
        "#IndicatorsFeatures\n",
        "\n",
        "#Trend\n",
        "df[\"ema_short\"]= EMA(df[\"Close\"],window = ema_short_period).ema_indicator()\n",
        "df[\"ema_long\"]= EMA(df[\"Close\"],window = ema_long_period).ema_indicator()\n",
        "df[\"adx\"]= ADX(df[\"High\"],df[\"Low\"],df[\"Close\"]).adx()\n",
        "df[\"cci\"] = CCI(df[\"High\"],df[\"Low\"],df[\"Close\"], ).cci()\n",
        "df[\"macd\"] = MACD(df[\"Close\"],).macd()\n",
        "df[\"ichimoku_a\"] = ichimoku(df[\"High\"],df[\"Low\"]).ichimoku_a()\n",
        "df[\"ichimoku_b\"] = ichimoku(df[\"High\"],df[\"Low\"]).ichimoku_b()\n",
        "df[\"ichimoku_base_line\"] = ichimoku(df[\"High\"],df[\"Low\"]).ichimoku_base_line()\n",
        "df[\"ichimoku_conversion_line\"] = ichimoku(df[\"High\"],df[\"Low\"]).ichimoku_conversion_line()\n",
        "df[\"psar\"] = PSAR(df[\"High\"],df[\"Low\"],df[\"Close\"]).psar()\n",
        "#Momentum\n",
        "df[\"kama\"] = KAMA(df[\"Close\"]).kama()\n",
        "df[\"PPO\"] = PPO(df[\"Close\"]).ppo()\n",
        "df[\"PVO\"] = PVO(df[\"Volume\"]).pvo()\n",
        "df[\"oscillator\"] = oscillator(df[\"High\"],df[\"Low\"],df[\"Close\"]).stoch()\n",
        "df[\"stochrsi\"] = stochrsi(df[\"Close\"]).stochrsi()\n",
        "df[\"stochrsi_d\"] = stochrsi(df[\"Close\"]).stochrsi_d()\n",
        "df[\"stochrsi_k\"] = stochrsi(df[\"Close\"]).stochrsi_k()\n",
        "df[\"tsi\"] = TSI(df[\"Close\"]).tsi()\n",
        "df[\"uoscillator\"] = Uoscillator(df[\"High\"],df[\"Low\"],df[\"Close\"]).ultimate_oscillator()\n",
        "df[\"williamR\"] = williamsR(df[\"High\"],df[\"Low\"],df[\"Close\"]).williams_r()\n",
        "df[\"rsi\"]= RSI(df[\"Close\"],window = rsi_period).rsi()\n",
        "#Volume\n",
        "df['obv'] = OBV(df[\"Close\"],df[\"Volume\"]).on_balance_volume()\n",
        "df[\"adi\"] = ADI(df[\"High\"],df[\"Low\"],df[\"Close\"],df[\"Volume\"]).acc_dist_index()\n",
        "df[\"cmf\"] = CMF(df[\"High\"],df[\"Low\"],df[\"Close\"],df[\"Volume\"]).chaikin_money_flow()\n",
        "df[\"emv\"] = EMV(df[\"High\"],df[\"Low\"],df[\"Volume\"]).ease_of_movement() \n",
        "df[\"fi\"] = FI(df[\"Close\"],df[\"Volume\"]).force_index()\n",
        "df[\"mfi\"] = MFI(df[\"High\"],df[\"Low\"],df[\"Close\"],df[\"Volume\"]).money_flow_index()\n",
        "df[\"nvi\"] = NVI(df[\"Close\"],df[\"Volume\"]).negative_volume_index()\n",
        "df[\"vpt\"] = VPT(df[\"Close\"],df[\"Volume\"]).volume_price_trend()\n",
        "df[\"vwap\"] = VWAP(df[\"High\"],df[\"Low\"],df[\"Close\"],df[\"Volume\"]).volume_weighted_average_price()\n",
        "#Volatility\n",
        "df[\"atr\"] = ATR(df[\"High\"],df[\"Low\"],df[\"Close\"],).average_true_range()\n",
        "df[\"donchian_hband\"] = donchian(df[\"High\"],df[\"Low\"],df[\"Close\"],).donchian_channel_hband()\n",
        "df[\"donchian_lband\"] = donchian(df[\"High\"],df[\"Low\"],df[\"Close\"],).donchian_channel_lband()\n",
        "df[\"donchian_mband\"] = donchian(df[\"High\"],df[\"Low\"],df[\"Close\"],).donchian_channel_mband()\n",
        "df[\"donchian_pband\"] = donchian(df[\"High\"],df[\"Low\"],df[\"Close\"],).donchian_channel_pband()\n",
        "df[\"donchian_wband\"] = donchian(df[\"High\"],df[\"Low\"],df[\"Close\"],).donchian_channel_wband()\n",
        "df[\"keltner_hband\"] = keltner(df[\"High\"],df[\"Low\"],df[\"Close\"]).keltner_channel_hband()\n",
        "df[\"keltner_mband\"] = keltner(df[\"High\"],df[\"Low\"],df[\"Close\"]).keltner_channel_mband()\n",
        "df[\"keltner_lband\"] = keltner(df[\"High\"],df[\"Low\"],df[\"Close\"]).keltner_channel_lband()\n",
        "df[\"keltner_pband\"] = keltner(df[\"High\"],df[\"Low\"],df[\"Close\"]).keltner_channel_pband()\n",
        "df[\"keltner_wband\"] = keltner(df[\"High\"],df[\"Low\"],df[\"Close\"]).keltner_channel_wband()\n",
        "df[\"uli\"] = ULI(df[\"Close\"]).ulcer_index()\n",
        "df[\"bolingersband_mavg\"] = blgband(df[\"Close\"]).bollinger_mavg()\n",
        "df[\"bolingersband_pband\"] = blgband(df[\"Close\"]).bollinger_pband()\n",
        "df[\"bolingersband_wband\"] = blgband(df[\"Close\"]).bollinger_wband()\n",
        "df[\"bolingersband_lband\"] = blgband(df[\"Close\"]).bollinger_lband()\n",
        "df[\"bolingersband_hband\"] = blgband(df[\"Close\"]).bollinger_hband()\n",
        "\n",
        "#Labels\n",
        "#df[\"Trend1day\"] = trend(df[\"Close\"],df.Close.shift(-1),0.1)\n",
        "df[\"Trend7day\"] = trend(df[\"Close\"],df.Close.shift(-7),0.1)\n",
        "#df[\"Trend7day\"] = trend2(df[\"Close\"],df.High.shift(-7),df.Low.shift(-7))\n",
        "df.shape"
      ],
      "execution_count": null,
      "outputs": [
        {
          "output_type": "stream",
          "text": [
            "/usr/local/lib/python3.7/dist-packages/ta/trend.py:768: RuntimeWarning: invalid value encountered in double_scalars\n",
            "  dip[i] = 100 * (self._dip[i] / self._trs[i])\n",
            "/usr/local/lib/python3.7/dist-packages/ta/trend.py:772: RuntimeWarning: invalid value encountered in double_scalars\n",
            "  din[i] = 100 * (self._din[i] / self._trs[i])\n"
          ],
          "name": "stderr"
        },
        {
          "output_type": "execute_result",
          "data": {
            "text/plain": [
              "(3125, 53)"
            ]
          },
          "metadata": {
            "tags": []
          },
          "execution_count": 13
        }
      ]
    },
    {
      "cell_type": "code",
      "metadata": {
        "colab": {
          "base_uri": "https://localhost:8080/"
        },
        "id": "5-8aC6-eAUs9",
        "outputId": "b740e92f-2b83-4f7d-f2de-cb1dde9e6fe0"
      },
      "source": [
        "df.dropna(inplace=True)\n",
        "df.shape\n",
        "#df.sample(5)"
      ],
      "execution_count": null,
      "outputs": [
        {
          "output_type": "execute_result",
          "data": {
            "text/plain": [
              "(3088, 53)"
            ]
          },
          "metadata": {
            "tags": []
          },
          "execution_count": 14
        }
      ]
    },
    {
      "cell_type": "code",
      "metadata": {
        "colab": {
          "base_uri": "https://localhost:8080/"
        },
        "id": "0XUKifYRClWB",
        "outputId": "af5bdfe9-9408-4681-ded4-197d162c6405"
      },
      "source": [
        "#num_field = [col for col in df.columns]\n",
        "num_field = ['Trend7day']\n",
        "print(num_field)"
      ],
      "execution_count": null,
      "outputs": [
        {
          "output_type": "stream",
          "text": [
            "['Trend7day']\n"
          ],
          "name": "stdout"
        }
      ]
    },
    {
      "cell_type": "code",
      "metadata": {
        "colab": {
          "base_uri": "https://localhost:8080/"
        },
        "id": "x-jpPE1DCd4Q",
        "outputId": "dc8f5458-f464-478f-a423-8ff1c84a334f"
      },
      "source": [
        "import seaborn as sns\n",
        "num_field = ['Trend7day']\n",
        "#print(num_field)\n",
        "for field in num_field:\n",
        "    try:\n",
        "        plt.figure(figsize=(12,5))\n",
        "        plt.title(\"Distribution of \" + field)\n",
        "        ax = sns.distplot(df[field])\n",
        "    except:\n",
        "        plt.figure(figsize=(12,5))\n",
        "        plt.title(\"Distribution of \"+ field)\n",
        "        ax = sns.distplot(df[field], kde=False)"
      ],
      "execution_count": null,
      "outputs": [
        {
          "output_type": "stream",
          "text": [
            "/usr/local/lib/python3.7/dist-packages/seaborn/distributions.py:2557: FutureWarning: `distplot` is a deprecated function and will be removed in a future version. Please adapt your code to use either `displot` (a figure-level function with similar flexibility) or `histplot` (an axes-level function for histograms).\n",
            "  warnings.warn(msg, FutureWarning)\n"
          ],
          "name": "stderr"
        },
        {
          "output_type": "display_data",
          "data": {
            "image/png": "[encoded data removed]",
            "text/plain": [
              "<Figure size 864x360 with 1 Axes>"
            ]
          },
          "metadata": {
            "tags": [],
            "needs_background": "light"
          }
        }
      ]
    },
    {
      "cell_type": "code",
      "metadata": {
        "colab": {
          "base_uri": "https://localhost:8080/"
        },
        "id": "ZfFoK8G66GWd",
        "outputId": "b292a68e-90b5-4746-d1bd-858bfbb009d9"
      },
      "source": [
        "#uniform_data = df.corr()\n",
        "#ax = sns.heatmap(uniform_data)\n",
        "sns.set_theme(style=\"white\")\n",
        "\n",
        "# Generate a large random dataset\n",
        "rs = np.random.RandomState(33)\n",
        "\n",
        "# Compute the correlation matrix\n",
        "corr = df.corr()\n",
        "\n",
        "# Generate a mask for the upper triangle\n",
        "mask = np.triu(np.ones_like(corr, dtype=bool))\n",
        "\n",
        "# Set up the matplotlib figure\n",
        "f, ax = plt.subplots(figsize=(20, 15))\n",
        "\n",
        "# Generate a custom diverging colormap\n",
        "cmap = sns.diverging_palette(230, 20, as_cmap=True)\n",
        "\n",
        "# Draw the heatmap with the mask and correct aspect ratio\n",
        "sns.heatmap(corr, mask=mask, cmap=cmap, vmax=.3, center=0,\n",
        "            square=True, linewidths=.5, cbar_kws={\"shrink\": .5})"
      ],
      "execution_count": null,
      "outputs": [
        {
          "output_type": "execute_result",
          "data": {
            "text/plain": [
              "<matplotlib.axes._subplots.AxesSubplot at 0x7fa938febe90>"
            ]
          },
          "metadata": {
            "tags": []
          },
          "execution_count": 17
        },
        {
          "output_type": "display_data",
          "data": {
            "image/png": "[encoded data removed]",
            "text/plain": [
              "<Figure size 1440x1080 with 2 Axes>"
            ]
          },
          "metadata": {
            "tags": []
          }
        }
      ]
    },
    {
      "cell_type": "markdown",
      "metadata": {
        "id": "Sw2YYOSdm818"
      },
      "source": [
        "##Normalize"
      ]
    },
    {
      "cell_type": "code",
      "metadata": {
        "id": "GyZNF8bdqWjQ"
      },
      "source": [
        "x= df.iloc[:,0:52]\n",
        "y= df['Trend7day']\n",
        "sc=StandardScaler(copy=True, with_mean=True, with_std=True)\n",
        "x_normal =sc.fit_transform(x)\n",
        "x_train_df , x_test_df, y_train_df, y_test_df = train_test_split(x_normal,y,test_size=0.2,random_state=0)"
      ],
      "execution_count": null,
      "outputs": []
    },
    {
      "cell_type": "code",
      "metadata": {
        "colab": {
          "base_uri": "https://localhost:8080/"
        },
        "id": "qtyux_4aAtRN",
        "outputId": "990efbbe-4b3f-4f47-cf3c-4aa6f22fde29"
      },
      "source": [
        "print(x_train_df)"
      ],
      "execution_count": null,
      "outputs": [
        {
          "output_type": "stream",
          "text": [
            "[[-0.60561603 -0.63834325 -0.58282318 ...  0.14182749 -0.49061177\n",
            "  -0.43034958]\n",
            " [-0.2407069  -0.23026972 -0.19029079 ... -0.83938552 -0.28963507\n",
            "  -0.49321966]\n",
            " [-0.58387865 -0.62650141 -0.59067125 ... -0.62259982 -0.58936898\n",
            "  -0.71639376]\n",
            " ...\n",
            " [ 2.06573679  1.98991841  1.99243889 ...  1.37585547  2.32748829\n",
            "   2.62606912]\n",
            " [-0.54636107 -0.56146528 -0.52840129 ... -0.4065997  -0.34693583\n",
            "  -0.43590442]\n",
            " [ 0.05385677  0.03939839  0.07216941 ... -1.35455103  0.27181539\n",
            "  -0.11025307]]\n"
          ],
          "name": "stdout"
        }
      ]
    },
    {
      "cell_type": "markdown",
      "metadata": {
        "id": "Jakoc25D0XlY"
      },
      "source": [
        "##PCA"
      ]
    },
    {
      "cell_type": "code",
      "metadata": {
        "id": "enwlHU-c0Yf4"
      },
      "source": [
        "from sklearn.decomposition import PCA\n",
        "#pca = PCA(n_components=25)\n",
        "#x_train_df = pca.fit_transform(x_train_df)\n",
        "#x_test_df = pca.transform(x_test_df)"
      ],
      "execution_count": null,
      "outputs": []
    },
    {
      "cell_type": "code",
      "metadata": {
        "id": "W5UHDLRR05VY"
      },
      "source": [
        "#information_gain_ratio = pca.explained_variance_ratio_\n",
        "#print(information_gain_ratio)"
      ],
      "execution_count": null,
      "outputs": []
    },
    {
      "cell_type": "code",
      "metadata": {
        "id": "bK41v17K06M2"
      },
      "source": [
        "#print(sum(information_gain_ratio))"
      ],
      "execution_count": null,
      "outputs": []
    },
    {
      "cell_type": "markdown",
      "metadata": {
        "id": "1SCLSaLwQZZx"
      },
      "source": [
        "##NCA"
      ]
    },
    {
      "cell_type": "code",
      "metadata": {
        "id": "iDSXB3M0SpO-"
      },
      "source": [
        "from sklearn.neighbors import NeighborhoodComponentsAnalysis\n",
        "nca = NeighborhoodComponentsAnalysis(n_components=25)\n",
        "x_train_df = nca.fit_transform(x_train_df,y_train_df)\n",
        "x_test_df = nca.transform(x_test_df)"
      ],
      "execution_count": null,
      "outputs": []
    },
    {
      "cell_type": "markdown",
      "metadata": {
        "id": "3ZLcHMWL6rf7"
      },
      "source": [
        "#MODEL"
      ]
    },
    {
      "cell_type": "markdown",
      "metadata": {
        "id": "143BZMMPmg8N"
      },
      "source": [
        "##RandomForest"
      ]
    },
    {
      "cell_type": "code",
      "metadata": {
        "colab": {
          "base_uri": "https://localhost:8080/"
        },
        "id": "vC-7y2HP_2bY",
        "outputId": "c198be9d-5d88-412b-8c16-cc6def53c7be"
      },
      "source": [
        "from sklearn.ensemble import RandomForestClassifier\n",
        "\n",
        "#Create a Gaussian Classifier\n",
        "clf=RandomForestClassifier(n_estimators=100)\n",
        "X_train = x_train_df\n",
        "y_train = y_train_df\n",
        "#Train the model using the training sets y_pred=clf.predict(X_test)\n",
        "clf.fit(X_train,y_train)"
      ],
      "execution_count": null,
      "outputs": [
        {
          "output_type": "execute_result",
          "data": {
            "text/plain": [
              "RandomForestClassifier(bootstrap=True, ccp_alpha=0.0, class_weight=None,\n",
              "                       criterion='gini', max_depth=None, max_features='auto',\n",
              "                       max_leaf_nodes=None, max_samples=None,\n",
              "                       min_impurity_decrease=0.0, min_impurity_split=None,\n",
              "                       min_samples_leaf=1, min_samples_split=2,\n",
              "                       min_weight_fraction_leaf=0.0, n_estimators=100,\n",
              "                       n_jobs=None, oob_score=False, random_state=None,\n",
              "                       verbose=0, warm_start=False)"
            ]
          },
          "metadata": {
            "tags": []
          },
          "execution_count": 28
        }
      ]
    },
    {
      "cell_type": "code",
      "metadata": {
        "colab": {
          "base_uri": "https://localhost:8080/"
        },
        "id": "MebHH2RPg6vc",
        "outputId": "8f3fd16e-d97a-4222-f02d-09b1d8dcbe56"
      },
      "source": [
        "clf.score(x_test_df,y_test_df)"
      ],
      "execution_count": null,
      "outputs": [
        {
          "output_type": "execute_result",
          "data": {
            "text/plain": [
              "0.8220064724919094"
            ]
          },
          "metadata": {
            "tags": []
          },
          "execution_count": 29
        }
      ]
    },
    {
      "cell_type": "code",
      "metadata": {
        "colab": {
          "base_uri": "https://localhost:8080/"
        },
        "id": "jxaZ8AgrpHnE",
        "outputId": "b0aa73bb-4f4a-4823-da45-47ed52585c36"
      },
      "source": [
        "from sklearn.metrics import confusion_matrix\n",
        "cm = confusion_matrix(y_test_df, clf.predict(x_test_df))\n",
        "print(cm)"
      ],
      "execution_count": null,
      "outputs": [
        {
          "output_type": "stream",
          "text": [
            "[[  2  19  11]\n",
            " [  1 345  21]\n",
            " [  0  58 161]]\n"
          ],
          "name": "stdout"
        }
      ]
    },
    {
      "cell_type": "code",
      "metadata": {
        "id": "lLtmcZrMAamz"
      },
      "source": [
        "feature_imp = pd.Series(clf.feature_importances_,index=df.iloc[:,0:52].columns).sort_values(ascending=False)"
      ],
      "execution_count": null,
      "outputs": []
    },
    {
      "cell_type": "code",
      "metadata": {
        "id": "x68KnWM1AeQt",
        "colab": {
          "base_uri": "https://localhost:8080/",
          "height": 898
        },
        "outputId": "ac799d16-b5fe-4947-fd98-3065ad605e26"
      },
      "source": [
        "import seaborn as sns\n",
        "%matplotlib inline\n",
        "# Creating a bar plot\n",
        "plt.figure(figsize = (15, 15))\n",
        "sns.barplot(x=feature_imp.head(50), y=feature_imp.head(50).index)\n",
        "\n",
        "# Add labels to your graph\n",
        "plt.xlabel('Feature Importance Score')\n",
        "plt.ylabel('Features')\n",
        "plt.title(\"Visualizing Important Features\")\n",
        "#plt.legend()\n",
        "plt.show()"
      ],
      "execution_count": null,
      "outputs": [
        {
          "output_type": "display_data",
          "data": {
            "image/png": "[encoded data removed]",
            "text/plain": [
              "<Figure size 1080x1080 with 1 Axes>"
            ]
          },
          "metadata": {
            "tags": [],
            "needs_background": "light"
          }
        }
      ]
    },
    {
      "cell_type": "markdown",
      "metadata": {
        "id": "z8j7i2LgmzoL"
      },
      "source": [
        "##XGB"
      ]
    },
    {
      "cell_type": "code",
      "metadata": {
        "colab": {
          "base_uri": "https://localhost:8080/"
        },
        "id": "haU24mJBy4LA",
        "outputId": "406e8c72-5c08-4f37-b06e-38998a7f24ca"
      },
      "source": [
        "from xgboost import XGBClassifier\n",
        "xgbc = XGBClassifier()\n",
        "xgbc.fit(x_train_df, y_train_df)\n",
        "#y_pred = xgbc.predict(x_train_df)\n",
        "\n",
        "# Model Accuracy, how often is the classifier correct?\n",
        "print(\"Accuracy:\",xgbc.score(x_test_df, y_test_df))"
      ],
      "execution_count": null,
      "outputs": [
        {
          "output_type": "stream",
          "text": [
            "Accuracy: 0.6954177897574124\n"
          ],
          "name": "stdout"
        }
      ]
    },
    {
      "cell_type": "code",
      "metadata": {
        "colab": {
          "base_uri": "https://localhost:8080/"
        },
        "id": "bcl8-_ELqDo2",
        "outputId": "991916f7-73ca-4478-89d1-0216cfe1c967"
      },
      "source": [
        "cm = confusion_matrix(y_test_df, xgbc.predict(x_test_df))\n",
        "print(cm)"
      ],
      "execution_count": null,
      "outputs": [
        {
          "output_type": "stream",
          "text": [
            "[[  1  18  19]\n",
            " [  2 128  35]\n",
            " [  2  37 129]]\n"
          ],
          "name": "stdout"
        }
      ]
    },
    {
      "cell_type": "markdown",
      "metadata": {
        "id": "9XbhqJBrm3lK"
      },
      "source": [
        "##SVC"
      ]
    },
    {
      "cell_type": "code",
      "metadata": {
        "colab": {
          "base_uri": "https://localhost:8080/"
        },
        "id": "7CLGD_WmBmKd",
        "outputId": "7863badf-ebb3-4a05-a1c7-f5a7d14e7a75"
      },
      "source": [
        "from sklearn.svm import SVC\n",
        "from sklearn.metrics import confusion_matrix\n",
        "#for i in sl:\n",
        "model = SVC()\n",
        "model.fit(x_train_df,y_train_df)\n",
        "z = accuracy_score(y_test_df, model.predict(x_test_df))\n",
        "print(\". Model score: \",z)"
      ],
      "execution_count": null,
      "outputs": [
        {
          "output_type": "stream",
          "text": [
            ". Model score:  0.6495956873315364\n"
          ],
          "name": "stdout"
        }
      ]
    },
    {
      "cell_type": "code",
      "metadata": {
        "colab": {
          "base_uri": "https://localhost:8080/"
        },
        "id": "N9r0WvpslnIB",
        "outputId": "d47acacc-6b4b-46aa-e5ba-d69707102b2e"
      },
      "source": [
        "cm = confusion_matrix(y_test_df, model.predict(x_test_df))\n",
        "print(cm)"
      ],
      "execution_count": null,
      "outputs": [
        {
          "output_type": "stream",
          "text": [
            "[[  0  17  21]\n",
            " [  0 117  48]\n",
            " [  0  44 124]]\n"
          ],
          "name": "stdout"
        }
      ]
    },
    {
      "cell_type": "markdown",
      "metadata": {
        "id": "zkk7W01Xs5O4"
      },
      "source": [
        "##LightGBM"
      ]
    },
    {
      "cell_type": "code",
      "metadata": {
        "colab": {
          "base_uri": "https://localhost:8080/"
        },
        "id": "9wV3eNYps5Ey",
        "outputId": "fe3baa6e-a79d-4f14-fb3e-a21c33ed0c04"
      },
      "source": [
        "from lightgbm import LGBMClassifier\n",
        "lgbm = LGBMClassifier()\n",
        "lgbm.fit(x_train_df, y_train_df)\n",
        "z = accuracy_score(y_test_df, lgbm.predict(x_test_df))\n",
        "print(\". Model score: \",z)\n",
        "\n",
        "#print(\"Accuracy:\",lgbm.score(x_test_df, y_test_df))"
      ],
      "execution_count": null,
      "outputs": [
        {
          "output_type": "stream",
          "text": [
            ". Model score:  0.7789757412398922\n"
          ],
          "name": "stdout"
        }
      ]
    },
    {
      "cell_type": "code",
      "metadata": {
        "colab": {
          "base_uri": "https://localhost:8080/"
        },
        "id": "7VXG_IW_xTwo",
        "outputId": "f449f2e4-dac6-43d7-da18-b9e5c35c8473"
      },
      "source": [
        "cm = confusion_matrix(y_test_df, lgbm.predict(x_test_df))\n",
        "print(cm)"
      ],
      "execution_count": null,
      "outputs": [
        {
          "output_type": "stream",
          "text": [
            "[[  1  18  19]\n",
            " [  5 143  17]\n",
            " [  5  18 145]]\n"
          ],
          "name": "stdout"
        }
      ]
    },
    {
      "cell_type": "code",
      "metadata": {
        "colab": {
          "base_uri": "https://localhost:8080/"
        },
        "id": "CYPbR6hcMsr_",
        "outputId": "e405b769-8cff-4796-8625-415bb12895ae"
      },
      "source": [
        "from sklearn.neighbors import NeighborhoodComponentsAnalysis\n",
        "nca = NeighborhoodComponentsAnalysis()\n",
        "X_train, y_train = x_train_df, y_train_df\n",
        "nca.fit(X_train,y_train)"
      ],
      "execution_count": null,
      "outputs": [
        {
          "output_type": "execute_result",
          "data": {
            "text/plain": [
              "NeighborhoodComponentsAnalysis(callback=None, init='auto', max_iter=50,\n",
              "                               n_components=None, random_state=None, tol=1e-05,\n",
              "                               verbose=0, warm_start=False)"
            ]
          },
          "metadata": {
            "tags": []
          },
          "execution_count": 37
        }
      ]
    },
    {
      "cell_type": "code",
      "metadata": {
        "colab": {
          "base_uri": "https://localhost:8080/"
        },
        "id": "c7RuvG1_NM5M",
        "outputId": "ec9a3f68-648d-41ad-fca9-57625ec0d06f"
      },
      "source": [
        "X_test,y_test = x_test_df ,y_test_df\n",
        "lgbm = LGBMClassifier()\n",
        "lgbm.fit( nca.transform(X_train), y_train)\n",
        "z = accuracy_score(y_test, lgbm.predict(nca.transform(X_test)))\n",
        "print(\". Model score: \",z)"
      ],
      "execution_count": null,
      "outputs": [
        {
          "output_type": "stream",
          "text": [
            ". Model score:  0.7547169811320755\n"
          ],
          "name": "stdout"
        }
      ]
    },
    {
      "cell_type": "markdown",
      "metadata": {
        "id": "5FGe7Dc_xqW-"
      },
      "source": [
        "##Catboost"
      ]
    },
    {
      "cell_type": "code",
      "metadata": {
        "colab": {
          "base_uri": "https://localhost:8080/"
        },
        "id": "tkfrFYA5xgeQ",
        "outputId": "0405fdfa-9e28-4e55-8e50-b6385468ee11"
      },
      "source": [
        "from catboost import CatBoostClassifier\n",
        "cat = CatBoostClassifier()\n",
        "cat.fit(x_train_df, y_train_df)"
      ],
      "execution_count": null,
      "outputs": [
        {
          "output_type": "stream",
          "text": [
            "Learning rate set to 0.08073\n",
            "0:\tlearn: 1.0764249\ttotal: 86.7ms\tremaining: 1m 26s\n",
            "1:\tlearn: 1.0540048\ttotal: 115ms\tremaining: 57.6s\n",
            "2:\tlearn: 1.0373682\ttotal: 143ms\tremaining: 47.5s\n",
            "3:\tlearn: 1.0204033\ttotal: 174ms\tremaining: 43.3s\n",
            "4:\tlearn: 1.0051028\ttotal: 213ms\tremaining: 42.4s\n",
            "5:\tlearn: 0.9901231\ttotal: 243ms\tremaining: 40.2s\n",
            "6:\tlearn: 0.9773996\ttotal: 271ms\tremaining: 38.5s\n",
            "7:\tlearn: 0.9648513\ttotal: 302ms\tremaining: 37.4s\n",
            "8:\tlearn: 0.9544005\ttotal: 331ms\tremaining: 36.4s\n",
            "9:\tlearn: 0.9400627\ttotal: 360ms\tremaining: 35.6s\n",
            "10:\tlearn: 0.9298303\ttotal: 392ms\tremaining: 35.2s\n",
            "11:\tlearn: 0.9204650\ttotal: 423ms\tremaining: 34.8s\n",
            "12:\tlearn: 0.9121404\ttotal: 452ms\tremaining: 34.3s\n",
            "13:\tlearn: 0.9051447\ttotal: 480ms\tremaining: 33.8s\n",
            "14:\tlearn: 0.8989389\ttotal: 514ms\tremaining: 33.8s\n",
            "15:\tlearn: 0.8902560\ttotal: 545ms\tremaining: 33.5s\n",
            "16:\tlearn: 0.8831784\ttotal: 574ms\tremaining: 33.2s\n",
            "17:\tlearn: 0.8762808\ttotal: 603ms\tremaining: 32.9s\n",
            "18:\tlearn: 0.8717169\ttotal: 635ms\tremaining: 32.8s\n",
            "19:\tlearn: 0.8651100\ttotal: 664ms\tremaining: 32.6s\n",
            "20:\tlearn: 0.8602087\ttotal: 698ms\tremaining: 32.5s\n",
            "21:\tlearn: 0.8551421\ttotal: 729ms\tremaining: 32.4s\n",
            "22:\tlearn: 0.8500153\ttotal: 757ms\tremaining: 32.2s\n",
            "23:\tlearn: 0.8447824\ttotal: 787ms\tremaining: 32s\n",
            "24:\tlearn: 0.8385811\ttotal: 823ms\tremaining: 32.1s\n",
            "25:\tlearn: 0.8342442\ttotal: 855ms\tremaining: 32s\n",
            "26:\tlearn: 0.8300213\ttotal: 885ms\tremaining: 31.9s\n",
            "27:\tlearn: 0.8253169\ttotal: 913ms\tremaining: 31.7s\n",
            "28:\tlearn: 0.8223503\ttotal: 944ms\tremaining: 31.6s\n",
            "29:\tlearn: 0.8179382\ttotal: 973ms\tremaining: 31.5s\n",
            "30:\tlearn: 0.8147650\ttotal: 1s\tremaining: 31.4s\n",
            "31:\tlearn: 0.8104562\ttotal: 1.04s\tremaining: 31.4s\n",
            "32:\tlearn: 0.8085829\ttotal: 1.07s\tremaining: 31.3s\n",
            "33:\tlearn: 0.8041599\ttotal: 1.1s\tremaining: 31.2s\n",
            "34:\tlearn: 0.8002097\ttotal: 1.13s\tremaining: 31s\n",
            "35:\tlearn: 0.7978053\ttotal: 1.16s\tremaining: 30.9s\n",
            "36:\tlearn: 0.7936569\ttotal: 1.18s\tremaining: 30.8s\n",
            "37:\tlearn: 0.7906939\ttotal: 1.22s\tremaining: 30.8s\n",
            "38:\tlearn: 0.7872719\ttotal: 1.25s\tremaining: 30.8s\n",
            "39:\tlearn: 0.7844250\ttotal: 1.28s\tremaining: 30.7s\n",
            "40:\tlearn: 0.7816446\ttotal: 1.31s\tremaining: 30.6s\n",
            "41:\tlearn: 0.7769818\ttotal: 1.34s\tremaining: 30.6s\n",
            "42:\tlearn: 0.7744497\ttotal: 1.37s\tremaining: 30.5s\n",
            "43:\tlearn: 0.7722175\ttotal: 1.4s\tremaining: 30.5s\n",
            "44:\tlearn: 0.7696414\ttotal: 1.43s\tremaining: 30.4s\n",
            "45:\tlearn: 0.7673842\ttotal: 1.46s\tremaining: 30.3s\n",
            "46:\tlearn: 0.7647274\ttotal: 1.49s\tremaining: 30.2s\n",
            "47:\tlearn: 0.7625975\ttotal: 1.52s\tremaining: 30.2s\n",
            "48:\tlearn: 0.7590993\ttotal: 1.55s\tremaining: 30.1s\n",
            "49:\tlearn: 0.7566994\ttotal: 1.58s\tremaining: 30.1s\n",
            "50:\tlearn: 0.7551074\ttotal: 1.61s\tremaining: 30s\n",
            "51:\tlearn: 0.7526806\ttotal: 1.64s\tremaining: 29.9s\n",
            "52:\tlearn: 0.7500175\ttotal: 1.67s\tremaining: 29.8s\n",
            "53:\tlearn: 0.7464269\ttotal: 1.7s\tremaining: 29.8s\n",
            "54:\tlearn: 0.7430201\ttotal: 1.73s\tremaining: 29.8s\n",
            "55:\tlearn: 0.7374754\ttotal: 1.76s\tremaining: 29.7s\n",
            "56:\tlearn: 0.7354869\ttotal: 1.8s\tremaining: 29.7s\n",
            "57:\tlearn: 0.7334412\ttotal: 1.83s\tremaining: 29.7s\n",
            "58:\tlearn: 0.7293019\ttotal: 1.86s\tremaining: 29.6s\n",
            "59:\tlearn: 0.7265491\ttotal: 1.89s\tremaining: 29.5s\n",
            "60:\tlearn: 0.7233492\ttotal: 1.92s\tremaining: 29.5s\n",
            "61:\tlearn: 0.7199633\ttotal: 1.95s\tremaining: 29.4s\n",
            "62:\tlearn: 0.7174886\ttotal: 1.98s\tremaining: 29.4s\n",
            "63:\tlearn: 0.7154199\ttotal: 2.01s\tremaining: 29.4s\n",
            "64:\tlearn: 0.7126037\ttotal: 2.04s\tremaining: 29.3s\n",
            "65:\tlearn: 0.7101702\ttotal: 2.07s\tremaining: 29.3s\n",
            "66:\tlearn: 0.7070606\ttotal: 2.09s\tremaining: 29.2s\n",
            "67:\tlearn: 0.7047571\ttotal: 2.13s\tremaining: 29.1s\n",
            "68:\tlearn: 0.7026109\ttotal: 2.15s\tremaining: 29.1s\n",
            "69:\tlearn: 0.7013193\ttotal: 2.18s\tremaining: 29s\n",
            "70:\tlearn: 0.6990887\ttotal: 2.22s\tremaining: 29s\n",
            "71:\tlearn: 0.6967582\ttotal: 2.25s\tremaining: 29s\n",
            "72:\tlearn: 0.6952885\ttotal: 2.28s\tremaining: 28.9s\n",
            "73:\tlearn: 0.6931487\ttotal: 2.31s\tremaining: 28.9s\n",
            "74:\tlearn: 0.6909160\ttotal: 2.34s\tremaining: 28.8s\n",
            "75:\tlearn: 0.6888818\ttotal: 2.37s\tremaining: 28.8s\n",
            "76:\tlearn: 0.6859846\ttotal: 2.4s\tremaining: 28.7s\n",
            "77:\tlearn: 0.6843123\ttotal: 2.43s\tremaining: 28.7s\n",
            "78:\tlearn: 0.6819760\ttotal: 2.46s\tremaining: 28.6s\n",
            "79:\tlearn: 0.6787699\ttotal: 2.49s\tremaining: 28.6s\n",
            "80:\tlearn: 0.6768131\ttotal: 2.52s\tremaining: 28.6s\n",
            "81:\tlearn: 0.6748653\ttotal: 2.55s\tremaining: 28.6s\n",
            "82:\tlearn: 0.6728452\ttotal: 2.58s\tremaining: 28.5s\n",
            "83:\tlearn: 0.6705037\ttotal: 2.61s\tremaining: 28.5s\n",
            "84:\tlearn: 0.6678671\ttotal: 2.64s\tremaining: 28.4s\n",
            "85:\tlearn: 0.6661983\ttotal: 2.67s\tremaining: 28.4s\n",
            "86:\tlearn: 0.6644909\ttotal: 2.69s\tremaining: 28.3s\n",
            "87:\tlearn: 0.6633487\ttotal: 2.72s\tremaining: 28.2s\n",
            "88:\tlearn: 0.6607597\ttotal: 2.75s\tremaining: 28.2s\n",
            "89:\tlearn: 0.6593818\ttotal: 2.78s\tremaining: 28.1s\n",
            "90:\tlearn: 0.6577841\ttotal: 2.81s\tremaining: 28.1s\n",
            "91:\tlearn: 0.6561727\ttotal: 2.85s\tremaining: 28.1s\n",
            "92:\tlearn: 0.6541624\ttotal: 2.88s\tremaining: 28.1s\n",
            "93:\tlearn: 0.6529293\ttotal: 2.9s\tremaining: 28s\n",
            "94:\tlearn: 0.6516320\ttotal: 2.93s\tremaining: 28s\n",
            "95:\tlearn: 0.6494276\ttotal: 2.97s\tremaining: 27.9s\n",
            "96:\tlearn: 0.6452159\ttotal: 3s\tremaining: 27.9s\n",
            "97:\tlearn: 0.6437135\ttotal: 3.02s\tremaining: 27.8s\n",
            "98:\tlearn: 0.6421579\ttotal: 3.06s\tremaining: 27.8s\n",
            "99:\tlearn: 0.6402443\ttotal: 3.09s\tremaining: 27.8s\n",
            "100:\tlearn: 0.6382502\ttotal: 3.12s\tremaining: 27.7s\n",
            "101:\tlearn: 0.6363574\ttotal: 3.15s\tremaining: 27.7s\n",
            "102:\tlearn: 0.6329429\ttotal: 3.18s\tremaining: 27.7s\n",
            "103:\tlearn: 0.6309922\ttotal: 3.21s\tremaining: 27.7s\n",
            "104:\tlearn: 0.6288009\ttotal: 3.24s\tremaining: 27.6s\n",
            "105:\tlearn: 0.6276582\ttotal: 3.28s\tremaining: 27.6s\n",
            "106:\tlearn: 0.6255455\ttotal: 3.31s\tremaining: 27.6s\n",
            "107:\tlearn: 0.6229561\ttotal: 3.33s\tremaining: 27.5s\n",
            "108:\tlearn: 0.6212403\ttotal: 3.36s\tremaining: 27.5s\n",
            "109:\tlearn: 0.6190463\ttotal: 3.39s\tremaining: 27.4s\n",
            "110:\tlearn: 0.6148841\ttotal: 3.42s\tremaining: 27.4s\n",
            "111:\tlearn: 0.6125586\ttotal: 3.45s\tremaining: 27.3s\n",
            "112:\tlearn: 0.6111783\ttotal: 3.48s\tremaining: 27.3s\n",
            "113:\tlearn: 0.6094387\ttotal: 3.51s\tremaining: 27.3s\n",
            "114:\tlearn: 0.6083610\ttotal: 3.54s\tremaining: 27.2s\n",
            "115:\tlearn: 0.6066438\ttotal: 3.57s\tremaining: 27.2s\n",
            "116:\tlearn: 0.6049827\ttotal: 3.6s\tremaining: 27.2s\n",
            "117:\tlearn: 0.6026528\ttotal: 3.63s\tremaining: 27.1s\n",
            "118:\tlearn: 0.5994560\ttotal: 3.66s\tremaining: 27.1s\n",
            "119:\tlearn: 0.5972087\ttotal: 3.69s\tremaining: 27s\n",
            "120:\tlearn: 0.5953269\ttotal: 3.71s\tremaining: 27s\n",
            "121:\tlearn: 0.5927321\ttotal: 3.75s\tremaining: 27s\n",
            "122:\tlearn: 0.5917105\ttotal: 3.77s\tremaining: 26.9s\n",
            "123:\tlearn: 0.5898716\ttotal: 3.81s\tremaining: 26.9s\n",
            "124:\tlearn: 0.5890624\ttotal: 3.83s\tremaining: 26.8s\n",
            "125:\tlearn: 0.5875155\ttotal: 3.86s\tremaining: 26.8s\n",
            "126:\tlearn: 0.5858264\ttotal: 3.9s\tremaining: 26.8s\n",
            "127:\tlearn: 0.5837410\ttotal: 3.92s\tremaining: 26.7s\n",
            "128:\tlearn: 0.5819598\ttotal: 3.95s\tremaining: 26.7s\n",
            "129:\tlearn: 0.5809093\ttotal: 3.98s\tremaining: 26.6s\n",
            "130:\tlearn: 0.5777056\ttotal: 4.01s\tremaining: 26.6s\n",
            "131:\tlearn: 0.5758364\ttotal: 4.04s\tremaining: 26.6s\n",
            "132:\tlearn: 0.5743399\ttotal: 4.07s\tremaining: 26.5s\n",
            "133:\tlearn: 0.5727758\ttotal: 4.1s\tremaining: 26.5s\n",
            "134:\tlearn: 0.5709520\ttotal: 4.13s\tremaining: 26.5s\n",
            "135:\tlearn: 0.5700308\ttotal: 4.16s\tremaining: 26.4s\n",
            "136:\tlearn: 0.5679733\ttotal: 4.19s\tremaining: 26.4s\n",
            "137:\tlearn: 0.5664830\ttotal: 4.22s\tremaining: 26.4s\n",
            "138:\tlearn: 0.5650617\ttotal: 4.26s\tremaining: 26.4s\n",
            "139:\tlearn: 0.5635117\ttotal: 4.28s\tremaining: 26.3s\n",
            "140:\tlearn: 0.5601012\ttotal: 4.32s\tremaining: 26.3s\n",
            "141:\tlearn: 0.5579391\ttotal: 4.34s\tremaining: 26.2s\n",
            "142:\tlearn: 0.5558827\ttotal: 4.37s\tremaining: 26.2s\n",
            "143:\tlearn: 0.5539877\ttotal: 4.4s\tremaining: 26.2s\n",
            "144:\tlearn: 0.5521414\ttotal: 4.43s\tremaining: 26.1s\n",
            "145:\tlearn: 0.5509462\ttotal: 4.46s\tremaining: 26.1s\n",
            "146:\tlearn: 0.5488728\ttotal: 4.49s\tremaining: 26s\n",
            "147:\tlearn: 0.5466813\ttotal: 4.52s\tremaining: 26s\n",
            "148:\tlearn: 0.5454496\ttotal: 4.55s\tremaining: 26s\n",
            "149:\tlearn: 0.5436478\ttotal: 4.58s\tremaining: 26s\n",
            "150:\tlearn: 0.5423788\ttotal: 4.61s\tremaining: 25.9s\n",
            "151:\tlearn: 0.5400773\ttotal: 4.64s\tremaining: 25.9s\n",
            "152:\tlearn: 0.5379919\ttotal: 4.68s\tremaining: 25.9s\n",
            "153:\tlearn: 0.5364548\ttotal: 4.7s\tremaining: 25.8s\n",
            "154:\tlearn: 0.5343834\ttotal: 4.74s\tremaining: 25.8s\n",
            "155:\tlearn: 0.5330417\ttotal: 4.76s\tremaining: 25.8s\n",
            "156:\tlearn: 0.5318881\ttotal: 4.79s\tremaining: 25.7s\n",
            "157:\tlearn: 0.5297943\ttotal: 4.82s\tremaining: 25.7s\n",
            "158:\tlearn: 0.5282838\ttotal: 4.86s\tremaining: 25.7s\n",
            "159:\tlearn: 0.5267400\ttotal: 4.88s\tremaining: 25.6s\n",
            "160:\tlearn: 0.5246893\ttotal: 4.91s\tremaining: 25.6s\n",
            "161:\tlearn: 0.5231134\ttotal: 4.94s\tremaining: 25.6s\n",
            "162:\tlearn: 0.5219574\ttotal: 4.97s\tremaining: 25.5s\n",
            "163:\tlearn: 0.5195573\ttotal: 5s\tremaining: 25.5s\n",
            "164:\tlearn: 0.5178324\ttotal: 5.03s\tremaining: 25.5s\n",
            "165:\tlearn: 0.5163286\ttotal: 5.06s\tremaining: 25.4s\n",
            "166:\tlearn: 0.5145107\ttotal: 5.09s\tremaining: 25.4s\n",
            "167:\tlearn: 0.5136320\ttotal: 5.11s\tremaining: 25.3s\n",
            "168:\tlearn: 0.5112602\ttotal: 5.15s\tremaining: 25.3s\n",
            "169:\tlearn: 0.5090073\ttotal: 5.19s\tremaining: 25.3s\n",
            "170:\tlearn: 0.5079766\ttotal: 5.22s\tremaining: 25.3s\n",
            "171:\tlearn: 0.5068070\ttotal: 5.25s\tremaining: 25.3s\n",
            "172:\tlearn: 0.5053724\ttotal: 5.28s\tremaining: 25.3s\n",
            "173:\tlearn: 0.5041742\ttotal: 5.32s\tremaining: 25.2s\n",
            "174:\tlearn: 0.5024493\ttotal: 5.34s\tremaining: 25.2s\n",
            "175:\tlearn: 0.5008111\ttotal: 5.38s\tremaining: 25.2s\n",
            "176:\tlearn: 0.4995591\ttotal: 5.4s\tremaining: 25.1s\n",
            "177:\tlearn: 0.4982573\ttotal: 5.43s\tremaining: 25.1s\n",
            "178:\tlearn: 0.4967034\ttotal: 5.46s\tremaining: 25.1s\n",
            "179:\tlearn: 0.4949487\ttotal: 5.5s\tremaining: 25s\n",
            "180:\tlearn: 0.4940550\ttotal: 5.52s\tremaining: 25s\n",
            "181:\tlearn: 0.4926456\ttotal: 5.55s\tremaining: 25s\n",
            "182:\tlearn: 0.4911870\ttotal: 5.58s\tremaining: 24.9s\n",
            "183:\tlearn: 0.4891230\ttotal: 5.61s\tremaining: 24.9s\n",
            "184:\tlearn: 0.4877845\ttotal: 5.64s\tremaining: 24.9s\n",
            "185:\tlearn: 0.4862383\ttotal: 5.67s\tremaining: 24.8s\n",
            "186:\tlearn: 0.4839780\ttotal: 5.7s\tremaining: 24.8s\n",
            "187:\tlearn: 0.4822693\ttotal: 5.73s\tremaining: 24.8s\n",
            "188:\tlearn: 0.4802890\ttotal: 5.76s\tremaining: 24.7s\n",
            "189:\tlearn: 0.4791578\ttotal: 5.8s\tremaining: 24.7s\n",
            "190:\tlearn: 0.4779073\ttotal: 5.83s\tremaining: 24.7s\n",
            "191:\tlearn: 0.4763310\ttotal: 5.85s\tremaining: 24.6s\n",
            "192:\tlearn: 0.4747823\ttotal: 5.88s\tremaining: 24.6s\n",
            "193:\tlearn: 0.4732709\ttotal: 5.92s\tremaining: 24.6s\n",
            "194:\tlearn: 0.4718922\ttotal: 5.94s\tremaining: 24.5s\n",
            "195:\tlearn: 0.4707044\ttotal: 5.97s\tremaining: 24.5s\n",
            "196:\tlearn: 0.4697678\ttotal: 6.01s\tremaining: 24.5s\n",
            "197:\tlearn: 0.4686453\ttotal: 6.04s\tremaining: 24.5s\n",
            "198:\tlearn: 0.4672624\ttotal: 6.07s\tremaining: 24.4s\n",
            "199:\tlearn: 0.4664087\ttotal: 6.1s\tremaining: 24.4s\n",
            "200:\tlearn: 0.4650322\ttotal: 6.13s\tremaining: 24.4s\n",
            "201:\tlearn: 0.4642863\ttotal: 6.16s\tremaining: 24.3s\n",
            "202:\tlearn: 0.4629687\ttotal: 6.19s\tremaining: 24.3s\n",
            "203:\tlearn: 0.4622666\ttotal: 6.22s\tremaining: 24.3s\n",
            "204:\tlearn: 0.4609084\ttotal: 6.26s\tremaining: 24.3s\n",
            "205:\tlearn: 0.4594272\ttotal: 6.3s\tremaining: 24.3s\n",
            "206:\tlearn: 0.4581441\ttotal: 6.34s\tremaining: 24.3s\n",
            "207:\tlearn: 0.4574822\ttotal: 6.37s\tremaining: 24.3s\n",
            "208:\tlearn: 0.4564770\ttotal: 6.4s\tremaining: 24.2s\n",
            "209:\tlearn: 0.4552949\ttotal: 6.43s\tremaining: 24.2s\n",
            "210:\tlearn: 0.4543748\ttotal: 6.47s\tremaining: 24.2s\n",
            "211:\tlearn: 0.4527542\ttotal: 6.5s\tremaining: 24.1s\n",
            "212:\tlearn: 0.4521340\ttotal: 6.53s\tremaining: 24.1s\n",
            "213:\tlearn: 0.4509699\ttotal: 6.56s\tremaining: 24.1s\n",
            "214:\tlearn: 0.4503082\ttotal: 6.58s\tremaining: 24s\n",
            "215:\tlearn: 0.4487438\ttotal: 6.62s\tremaining: 24s\n",
            "216:\tlearn: 0.4479236\ttotal: 6.65s\tremaining: 24s\n",
            "217:\tlearn: 0.4470289\ttotal: 6.69s\tremaining: 24s\n",
            "218:\tlearn: 0.4463188\ttotal: 6.72s\tremaining: 24s\n",
            "219:\tlearn: 0.4453360\ttotal: 6.75s\tremaining: 23.9s\n",
            "220:\tlearn: 0.4442736\ttotal: 6.78s\tremaining: 23.9s\n",
            "221:\tlearn: 0.4432254\ttotal: 6.81s\tremaining: 23.9s\n",
            "222:\tlearn: 0.4414843\ttotal: 6.84s\tremaining: 23.8s\n",
            "223:\tlearn: 0.4404433\ttotal: 6.88s\tremaining: 23.8s\n",
            "224:\tlearn: 0.4397487\ttotal: 6.91s\tremaining: 23.8s\n",
            "225:\tlearn: 0.4386922\ttotal: 6.94s\tremaining: 23.8s\n",
            "226:\tlearn: 0.4380231\ttotal: 6.97s\tremaining: 23.7s\n",
            "227:\tlearn: 0.4373428\ttotal: 7s\tremaining: 23.7s\n",
            "228:\tlearn: 0.4366674\ttotal: 7.03s\tremaining: 23.7s\n",
            "229:\tlearn: 0.4348907\ttotal: 7.05s\tremaining: 23.6s\n",
            "230:\tlearn: 0.4339265\ttotal: 7.08s\tremaining: 23.6s\n",
            "231:\tlearn: 0.4328483\ttotal: 7.11s\tremaining: 23.5s\n",
            "232:\tlearn: 0.4319393\ttotal: 7.14s\tremaining: 23.5s\n",
            "233:\tlearn: 0.4313291\ttotal: 7.17s\tremaining: 23.5s\n",
            "234:\tlearn: 0.4304564\ttotal: 7.2s\tremaining: 23.4s\n",
            "235:\tlearn: 0.4295329\ttotal: 7.24s\tremaining: 23.4s\n",
            "236:\tlearn: 0.4281799\ttotal: 7.27s\tremaining: 23.4s\n",
            "237:\tlearn: 0.4263483\ttotal: 7.3s\tremaining: 23.4s\n",
            "238:\tlearn: 0.4249270\ttotal: 7.33s\tremaining: 23.4s\n",
            "239:\tlearn: 0.4231411\ttotal: 7.36s\tremaining: 23.3s\n",
            "240:\tlearn: 0.4224053\ttotal: 7.39s\tremaining: 23.3s\n",
            "241:\tlearn: 0.4210747\ttotal: 7.42s\tremaining: 23.3s\n",
            "242:\tlearn: 0.4200593\ttotal: 7.45s\tremaining: 23.2s\n",
            "243:\tlearn: 0.4191529\ttotal: 7.48s\tremaining: 23.2s\n",
            "244:\tlearn: 0.4177632\ttotal: 7.51s\tremaining: 23.2s\n",
            "245:\tlearn: 0.4166987\ttotal: 7.54s\tremaining: 23.1s\n",
            "246:\tlearn: 0.4159888\ttotal: 7.57s\tremaining: 23.1s\n",
            "247:\tlearn: 0.4147730\ttotal: 7.6s\tremaining: 23s\n",
            "248:\tlearn: 0.4139071\ttotal: 7.63s\tremaining: 23s\n",
            "249:\tlearn: 0.4127199\ttotal: 7.66s\tremaining: 23s\n",
            "250:\tlearn: 0.4115962\ttotal: 7.68s\tremaining: 22.9s\n",
            "251:\tlearn: 0.4107860\ttotal: 7.72s\tremaining: 22.9s\n",
            "252:\tlearn: 0.4096222\ttotal: 7.75s\tremaining: 22.9s\n",
            "253:\tlearn: 0.4084779\ttotal: 7.78s\tremaining: 22.9s\n",
            "254:\tlearn: 0.4071083\ttotal: 7.81s\tremaining: 22.8s\n",
            "255:\tlearn: 0.4063801\ttotal: 7.84s\tremaining: 22.8s\n",
            "256:\tlearn: 0.4054710\ttotal: 7.87s\tremaining: 22.8s\n",
            "257:\tlearn: 0.4039794\ttotal: 7.9s\tremaining: 22.7s\n",
            "258:\tlearn: 0.4034592\ttotal: 7.93s\tremaining: 22.7s\n",
            "259:\tlearn: 0.4021999\ttotal: 7.96s\tremaining: 22.7s\n",
            "260:\tlearn: 0.4017323\ttotal: 7.99s\tremaining: 22.6s\n",
            "261:\tlearn: 0.4007352\ttotal: 8.02s\tremaining: 22.6s\n",
            "262:\tlearn: 0.3995114\ttotal: 8.05s\tremaining: 22.6s\n",
            "263:\tlearn: 0.3989413\ttotal: 8.08s\tremaining: 22.5s\n",
            "264:\tlearn: 0.3983705\ttotal: 8.11s\tremaining: 22.5s\n",
            "265:\tlearn: 0.3971285\ttotal: 8.14s\tremaining: 22.5s\n",
            "266:\tlearn: 0.3958082\ttotal: 8.17s\tremaining: 22.4s\n",
            "267:\tlearn: 0.3949801\ttotal: 8.2s\tremaining: 22.4s\n",
            "268:\tlearn: 0.3940014\ttotal: 8.22s\tremaining: 22.4s\n",
            "269:\tlearn: 0.3930189\ttotal: 8.26s\tremaining: 22.3s\n",
            "270:\tlearn: 0.3918016\ttotal: 8.29s\tremaining: 22.3s\n",
            "271:\tlearn: 0.3912246\ttotal: 8.32s\tremaining: 22.3s\n",
            "272:\tlearn: 0.3904544\ttotal: 8.36s\tremaining: 22.3s\n",
            "273:\tlearn: 0.3893240\ttotal: 8.39s\tremaining: 22.2s\n",
            "274:\tlearn: 0.3884145\ttotal: 8.42s\tremaining: 22.2s\n",
            "275:\tlearn: 0.3871871\ttotal: 8.45s\tremaining: 22.2s\n",
            "276:\tlearn: 0.3865119\ttotal: 8.48s\tremaining: 22.1s\n",
            "277:\tlearn: 0.3857868\ttotal: 8.51s\tremaining: 22.1s\n",
            "278:\tlearn: 0.3847313\ttotal: 8.54s\tremaining: 22.1s\n",
            "279:\tlearn: 0.3838405\ttotal: 8.57s\tremaining: 22s\n",
            "280:\tlearn: 0.3832360\ttotal: 8.6s\tremaining: 22s\n",
            "281:\tlearn: 0.3825567\ttotal: 8.63s\tremaining: 22s\n",
            "282:\tlearn: 0.3821672\ttotal: 8.66s\tremaining: 21.9s\n",
            "283:\tlearn: 0.3812973\ttotal: 8.69s\tremaining: 21.9s\n",
            "284:\tlearn: 0.3802059\ttotal: 8.72s\tremaining: 21.9s\n",
            "285:\tlearn: 0.3792329\ttotal: 8.75s\tremaining: 21.8s\n",
            "286:\tlearn: 0.3780113\ttotal: 8.78s\tremaining: 21.8s\n",
            "287:\tlearn: 0.3773979\ttotal: 8.81s\tremaining: 21.8s\n",
            "288:\tlearn: 0.3765505\ttotal: 8.84s\tremaining: 21.7s\n",
            "289:\tlearn: 0.3753597\ttotal: 8.87s\tremaining: 21.7s\n",
            "290:\tlearn: 0.3742237\ttotal: 8.9s\tremaining: 21.7s\n",
            "291:\tlearn: 0.3735709\ttotal: 8.93s\tremaining: 21.6s\n",
            "292:\tlearn: 0.3726993\ttotal: 8.95s\tremaining: 21.6s\n",
            "293:\tlearn: 0.3716016\ttotal: 8.99s\tremaining: 21.6s\n",
            "294:\tlearn: 0.3708252\ttotal: 9.02s\tremaining: 21.5s\n",
            "295:\tlearn: 0.3702162\ttotal: 9.04s\tremaining: 21.5s\n",
            "296:\tlearn: 0.3694121\ttotal: 9.07s\tremaining: 21.5s\n",
            "297:\tlearn: 0.3687481\ttotal: 9.1s\tremaining: 21.4s\n",
            "298:\tlearn: 0.3677064\ttotal: 9.13s\tremaining: 21.4s\n",
            "299:\tlearn: 0.3667917\ttotal: 9.17s\tremaining: 21.4s\n",
            "300:\tlearn: 0.3660329\ttotal: 9.2s\tremaining: 21.4s\n",
            "301:\tlearn: 0.3650350\ttotal: 9.23s\tremaining: 21.3s\n",
            "302:\tlearn: 0.3647330\ttotal: 9.25s\tremaining: 21.3s\n",
            "303:\tlearn: 0.3640079\ttotal: 9.29s\tremaining: 21.3s\n",
            "304:\tlearn: 0.3630339\ttotal: 9.32s\tremaining: 21.2s\n",
            "305:\tlearn: 0.3623788\ttotal: 9.35s\tremaining: 21.2s\n",
            "306:\tlearn: 0.3617531\ttotal: 9.38s\tremaining: 21.2s\n",
            "307:\tlearn: 0.3614792\ttotal: 9.41s\tremaining: 21.1s\n",
            "308:\tlearn: 0.3606827\ttotal: 9.44s\tremaining: 21.1s\n",
            "309:\tlearn: 0.3599054\ttotal: 9.47s\tremaining: 21.1s\n",
            "310:\tlearn: 0.3593044\ttotal: 9.5s\tremaining: 21s\n",
            "311:\tlearn: 0.3585166\ttotal: 9.53s\tremaining: 21s\n",
            "312:\tlearn: 0.3580729\ttotal: 9.56s\tremaining: 21s\n",
            "313:\tlearn: 0.3575548\ttotal: 9.59s\tremaining: 20.9s\n",
            "314:\tlearn: 0.3569195\ttotal: 9.62s\tremaining: 20.9s\n",
            "315:\tlearn: 0.3561847\ttotal: 9.65s\tremaining: 20.9s\n",
            "316:\tlearn: 0.3554616\ttotal: 9.68s\tremaining: 20.9s\n",
            "317:\tlearn: 0.3546612\ttotal: 9.71s\tremaining: 20.8s\n",
            "318:\tlearn: 0.3536045\ttotal: 9.74s\tremaining: 20.8s\n",
            "319:\tlearn: 0.3531187\ttotal: 9.78s\tremaining: 20.8s\n",
            "320:\tlearn: 0.3525004\ttotal: 9.8s\tremaining: 20.7s\n",
            "321:\tlearn: 0.3519934\ttotal: 9.83s\tremaining: 20.7s\n",
            "322:\tlearn: 0.3512887\ttotal: 9.86s\tremaining: 20.7s\n",
            "323:\tlearn: 0.3504838\ttotal: 9.89s\tremaining: 20.6s\n",
            "324:\tlearn: 0.3494285\ttotal: 9.92s\tremaining: 20.6s\n",
            "325:\tlearn: 0.3485554\ttotal: 9.96s\tremaining: 20.6s\n",
            "326:\tlearn: 0.3478685\ttotal: 9.99s\tremaining: 20.6s\n",
            "327:\tlearn: 0.3467459\ttotal: 10s\tremaining: 20.5s\n",
            "328:\tlearn: 0.3458701\ttotal: 10.1s\tremaining: 20.5s\n",
            "329:\tlearn: 0.3449087\ttotal: 10.1s\tremaining: 20.5s\n",
            "330:\tlearn: 0.3443889\ttotal: 10.1s\tremaining: 20.4s\n",
            "331:\tlearn: 0.3435884\ttotal: 10.1s\tremaining: 20.4s\n",
            "332:\tlearn: 0.3427847\ttotal: 10.2s\tremaining: 20.4s\n",
            "333:\tlearn: 0.3423419\ttotal: 10.2s\tremaining: 20.3s\n",
            "334:\tlearn: 0.3417331\ttotal: 10.2s\tremaining: 20.3s\n",
            "335:\tlearn: 0.3411220\ttotal: 10.3s\tremaining: 20.3s\n",
            "336:\tlearn: 0.3401282\ttotal: 10.3s\tremaining: 20.3s\n",
            "337:\tlearn: 0.3393160\ttotal: 10.3s\tremaining: 20.3s\n",
            "338:\tlearn: 0.3389491\ttotal: 10.4s\tremaining: 20.2s\n",
            "339:\tlearn: 0.3376921\ttotal: 10.4s\tremaining: 20.2s\n",
            "340:\tlearn: 0.3371258\ttotal: 10.4s\tremaining: 20.2s\n",
            "341:\tlearn: 0.3362121\ttotal: 10.5s\tremaining: 20.1s\n",
            "342:\tlearn: 0.3355945\ttotal: 10.5s\tremaining: 20.1s\n",
            "343:\tlearn: 0.3352305\ttotal: 10.5s\tremaining: 20.1s\n",
            "344:\tlearn: 0.3346109\ttotal: 10.6s\tremaining: 20s\n",
            "345:\tlearn: 0.3336988\ttotal: 10.6s\tremaining: 20s\n",
            "346:\tlearn: 0.3331719\ttotal: 10.6s\tremaining: 20s\n",
            "347:\tlearn: 0.3324985\ttotal: 10.6s\tremaining: 19.9s\n",
            "348:\tlearn: 0.3318879\ttotal: 10.7s\tremaining: 19.9s\n",
            "349:\tlearn: 0.3312350\ttotal: 10.7s\tremaining: 19.9s\n",
            "350:\tlearn: 0.3304315\ttotal: 10.7s\tremaining: 19.9s\n",
            "351:\tlearn: 0.3292670\ttotal: 10.8s\tremaining: 19.8s\n",
            "352:\tlearn: 0.3286503\ttotal: 10.8s\tremaining: 19.8s\n",
            "353:\tlearn: 0.3281010\ttotal: 10.8s\tremaining: 19.8s\n",
            "354:\tlearn: 0.3275148\ttotal: 10.9s\tremaining: 19.8s\n",
            "355:\tlearn: 0.3267535\ttotal: 10.9s\tremaining: 19.7s\n",
            "356:\tlearn: 0.3260289\ttotal: 10.9s\tremaining: 19.7s\n",
            "357:\tlearn: 0.3253515\ttotal: 11s\tremaining: 19.7s\n",
            "358:\tlearn: 0.3246454\ttotal: 11s\tremaining: 19.6s\n",
            "359:\tlearn: 0.3242393\ttotal: 11s\tremaining: 19.6s\n",
            "360:\tlearn: 0.3239061\ttotal: 11.1s\tremaining: 19.6s\n",
            "361:\tlearn: 0.3233674\ttotal: 11.1s\tremaining: 19.6s\n",
            "362:\tlearn: 0.3231139\ttotal: 11.1s\tremaining: 19.5s\n",
            "363:\tlearn: 0.3221741\ttotal: 11.2s\tremaining: 19.5s\n",
            "364:\tlearn: 0.3218463\ttotal: 11.2s\tremaining: 19.5s\n",
            "365:\tlearn: 0.3211164\ttotal: 11.2s\tremaining: 19.4s\n",
            "366:\tlearn: 0.3205132\ttotal: 11.2s\tremaining: 19.4s\n",
            "367:\tlearn: 0.3196778\ttotal: 11.3s\tremaining: 19.4s\n",
            "368:\tlearn: 0.3192505\ttotal: 11.3s\tremaining: 19.4s\n",
            "369:\tlearn: 0.3182386\ttotal: 11.3s\tremaining: 19.3s\n",
            "370:\tlearn: 0.3175104\ttotal: 11.4s\tremaining: 19.3s\n",
            "371:\tlearn: 0.3169269\ttotal: 11.4s\tremaining: 19.3s\n",
            "372:\tlearn: 0.3163674\ttotal: 11.4s\tremaining: 19.2s\n",
            "373:\tlearn: 0.3156160\ttotal: 11.5s\tremaining: 19.2s\n",
            "374:\tlearn: 0.3151852\ttotal: 11.5s\tremaining: 19.2s\n",
            "375:\tlearn: 0.3144972\ttotal: 11.5s\tremaining: 19.1s\n",
            "376:\tlearn: 0.3139089\ttotal: 11.6s\tremaining: 19.1s\n",
            "377:\tlearn: 0.3132431\ttotal: 11.6s\tremaining: 19.1s\n",
            "378:\tlearn: 0.3125540\ttotal: 11.6s\tremaining: 19s\n",
            "379:\tlearn: 0.3119727\ttotal: 11.7s\tremaining: 19s\n",
            "380:\tlearn: 0.3114879\ttotal: 11.7s\tremaining: 19s\n",
            "381:\tlearn: 0.3109345\ttotal: 11.7s\tremaining: 19s\n",
            "382:\tlearn: 0.3099503\ttotal: 11.8s\tremaining: 18.9s\n",
            "383:\tlearn: 0.3094376\ttotal: 11.8s\tremaining: 18.9s\n",
            "384:\tlearn: 0.3089519\ttotal: 11.8s\tremaining: 18.9s\n",
            "385:\tlearn: 0.3087054\ttotal: 11.9s\tremaining: 18.9s\n",
            "386:\tlearn: 0.3081742\ttotal: 11.9s\tremaining: 18.8s\n",
            "387:\tlearn: 0.3075290\ttotal: 11.9s\tremaining: 18.8s\n",
            "388:\tlearn: 0.3068906\ttotal: 11.9s\tremaining: 18.8s\n",
            "389:\tlearn: 0.3057923\ttotal: 12s\tremaining: 18.7s\n",
            "390:\tlearn: 0.3053455\ttotal: 12s\tremaining: 18.7s\n",
            "391:\tlearn: 0.3046580\ttotal: 12s\tremaining: 18.7s\n",
            "392:\tlearn: 0.3038472\ttotal: 12.1s\tremaining: 18.6s\n",
            "393:\tlearn: 0.3031648\ttotal: 12.1s\tremaining: 18.6s\n",
            "394:\tlearn: 0.3022328\ttotal: 12.1s\tremaining: 18.6s\n",
            "395:\tlearn: 0.3018954\ttotal: 12.2s\tremaining: 18.5s\n",
            "396:\tlearn: 0.3012928\ttotal: 12.2s\tremaining: 18.5s\n",
            "397:\tlearn: 0.3007186\ttotal: 12.2s\tremaining: 18.5s\n",
            "398:\tlearn: 0.3003526\ttotal: 12.2s\tremaining: 18.4s\n",
            "399:\tlearn: 0.2997042\ttotal: 12.3s\tremaining: 18.4s\n",
            "400:\tlearn: 0.2995017\ttotal: 12.3s\tremaining: 18.4s\n",
            "401:\tlearn: 0.2989515\ttotal: 12.3s\tremaining: 18.4s\n",
            "402:\tlearn: 0.2983336\ttotal: 12.4s\tremaining: 18.3s\n",
            "403:\tlearn: 0.2978193\ttotal: 12.4s\tremaining: 18.3s\n",
            "404:\tlearn: 0.2970555\ttotal: 12.4s\tremaining: 18.3s\n",
            "405:\tlearn: 0.2962949\ttotal: 12.5s\tremaining: 18.2s\n",
            "406:\tlearn: 0.2957539\ttotal: 12.5s\tremaining: 18.2s\n",
            "407:\tlearn: 0.2952943\ttotal: 12.5s\tremaining: 18.2s\n",
            "408:\tlearn: 0.2948204\ttotal: 12.6s\tremaining: 18.1s\n",
            "409:\tlearn: 0.2938259\ttotal: 12.6s\tremaining: 18.1s\n",
            "410:\tlearn: 0.2933447\ttotal: 12.6s\tremaining: 18.1s\n",
            "411:\tlearn: 0.2928234\ttotal: 12.7s\tremaining: 18.1s\n",
            "412:\tlearn: 0.2925975\ttotal: 12.7s\tremaining: 18s\n",
            "413:\tlearn: 0.2920389\ttotal: 12.7s\tremaining: 18s\n",
            "414:\tlearn: 0.2909624\ttotal: 12.7s\tremaining: 18s\n",
            "415:\tlearn: 0.2901769\ttotal: 12.8s\tremaining: 17.9s\n",
            "416:\tlearn: 0.2897709\ttotal: 12.8s\tremaining: 17.9s\n",
            "417:\tlearn: 0.2892201\ttotal: 12.8s\tremaining: 17.9s\n",
            "418:\tlearn: 0.2883145\ttotal: 12.9s\tremaining: 17.8s\n",
            "419:\tlearn: 0.2877202\ttotal: 12.9s\tremaining: 17.8s\n",
            "420:\tlearn: 0.2873507\ttotal: 12.9s\tremaining: 17.8s\n",
            "421:\tlearn: 0.2868273\ttotal: 13s\tremaining: 17.7s\n",
            "422:\tlearn: 0.2861125\ttotal: 13s\tremaining: 17.7s\n",
            "423:\tlearn: 0.2855610\ttotal: 13s\tremaining: 17.7s\n",
            "424:\tlearn: 0.2848737\ttotal: 13.1s\tremaining: 17.7s\n",
            "425:\tlearn: 0.2846074\ttotal: 13.1s\tremaining: 17.6s\n",
            "426:\tlearn: 0.2837852\ttotal: 13.1s\tremaining: 17.6s\n",
            "427:\tlearn: 0.2828734\ttotal: 13.1s\tremaining: 17.6s\n",
            "428:\tlearn: 0.2824032\ttotal: 13.2s\tremaining: 17.5s\n",
            "429:\tlearn: 0.2819305\ttotal: 13.2s\tremaining: 17.5s\n",
            "430:\tlearn: 0.2816667\ttotal: 13.2s\tremaining: 17.5s\n",
            "431:\tlearn: 0.2813978\ttotal: 13.3s\tremaining: 17.4s\n",
            "432:\tlearn: 0.2811201\ttotal: 13.3s\tremaining: 17.4s\n",
            "433:\tlearn: 0.2809107\ttotal: 13.3s\tremaining: 17.4s\n",
            "434:\tlearn: 0.2803593\ttotal: 13.4s\tremaining: 17.4s\n",
            "435:\tlearn: 0.2800470\ttotal: 13.4s\tremaining: 17.3s\n",
            "436:\tlearn: 0.2794410\ttotal: 13.4s\tremaining: 17.3s\n",
            "437:\tlearn: 0.2789639\ttotal: 13.4s\tremaining: 17.3s\n",
            "438:\tlearn: 0.2779406\ttotal: 13.5s\tremaining: 17.2s\n",
            "439:\tlearn: 0.2775673\ttotal: 13.5s\tremaining: 17.2s\n",
            "440:\tlearn: 0.2766461\ttotal: 13.5s\tremaining: 17.2s\n",
            "441:\tlearn: 0.2761718\ttotal: 13.6s\tremaining: 17.1s\n",
            "442:\tlearn: 0.2757023\ttotal: 13.6s\tremaining: 17.1s\n",
            "443:\tlearn: 0.2754751\ttotal: 13.6s\tremaining: 17.1s\n",
            "444:\tlearn: 0.2752009\ttotal: 13.7s\tremaining: 17s\n",
            "445:\tlearn: 0.2747062\ttotal: 13.7s\tremaining: 17s\n",
            "446:\tlearn: 0.2740756\ttotal: 13.7s\tremaining: 17s\n",
            "447:\tlearn: 0.2737947\ttotal: 13.7s\tremaining: 16.9s\n",
            "448:\tlearn: 0.2735361\ttotal: 13.8s\tremaining: 16.9s\n",
            "449:\tlearn: 0.2733168\ttotal: 13.8s\tremaining: 16.9s\n",
            "450:\tlearn: 0.2725757\ttotal: 13.8s\tremaining: 16.8s\n",
            "451:\tlearn: 0.2720123\ttotal: 13.9s\tremaining: 16.8s\n",
            "452:\tlearn: 0.2714484\ttotal: 13.9s\tremaining: 16.8s\n",
            "453:\tlearn: 0.2710770\ttotal: 13.9s\tremaining: 16.7s\n",
            "454:\tlearn: 0.2701877\ttotal: 14s\tremaining: 16.7s\n",
            "455:\tlearn: 0.2696923\ttotal: 14s\tremaining: 16.7s\n",
            "456:\tlearn: 0.2691777\ttotal: 14s\tremaining: 16.6s\n",
            "457:\tlearn: 0.2688307\ttotal: 14s\tremaining: 16.6s\n",
            "458:\tlearn: 0.2684229\ttotal: 14.1s\tremaining: 16.6s\n",
            "459:\tlearn: 0.2676293\ttotal: 14.1s\tremaining: 16.6s\n",
            "460:\tlearn: 0.2673868\ttotal: 14.1s\tremaining: 16.5s\n",
            "461:\tlearn: 0.2667338\ttotal: 14.2s\tremaining: 16.5s\n",
            "462:\tlearn: 0.2664337\ttotal: 14.2s\tremaining: 16.5s\n",
            "463:\tlearn: 0.2656887\ttotal: 14.2s\tremaining: 16.4s\n",
            "464:\tlearn: 0.2653709\ttotal: 14.3s\tremaining: 16.4s\n",
            "465:\tlearn: 0.2649665\ttotal: 14.3s\tremaining: 16.4s\n",
            "466:\tlearn: 0.2640057\ttotal: 14.3s\tremaining: 16.3s\n",
            "467:\tlearn: 0.2633887\ttotal: 14.4s\tremaining: 16.3s\n",
            "468:\tlearn: 0.2627357\ttotal: 14.4s\tremaining: 16.3s\n",
            "469:\tlearn: 0.2621746\ttotal: 14.4s\tremaining: 16.3s\n",
            "470:\tlearn: 0.2616743\ttotal: 14.4s\tremaining: 16.2s\n",
            "471:\tlearn: 0.2615260\ttotal: 14.5s\tremaining: 16.2s\n",
            "472:\tlearn: 0.2611101\ttotal: 14.5s\tremaining: 16.2s\n",
            "473:\tlearn: 0.2607738\ttotal: 14.5s\tremaining: 16.1s\n",
            "474:\tlearn: 0.2603247\ttotal: 14.6s\tremaining: 16.1s\n",
            "475:\tlearn: 0.2598991\ttotal: 14.6s\tremaining: 16.1s\n",
            "476:\tlearn: 0.2594734\ttotal: 14.6s\tremaining: 16s\n",
            "477:\tlearn: 0.2588127\ttotal: 14.6s\tremaining: 16s\n",
            "478:\tlearn: 0.2581985\ttotal: 14.7s\tremaining: 16s\n",
            "479:\tlearn: 0.2577627\ttotal: 14.7s\tremaining: 15.9s\n",
            "480:\tlearn: 0.2573725\ttotal: 14.7s\tremaining: 15.9s\n",
            "481:\tlearn: 0.2568535\ttotal: 14.8s\tremaining: 15.9s\n",
            "482:\tlearn: 0.2562025\ttotal: 14.8s\tremaining: 15.8s\n",
            "483:\tlearn: 0.2554902\ttotal: 14.8s\tremaining: 15.8s\n",
            "484:\tlearn: 0.2551181\ttotal: 14.9s\tremaining: 15.8s\n",
            "485:\tlearn: 0.2547324\ttotal: 14.9s\tremaining: 15.8s\n",
            "486:\tlearn: 0.2541010\ttotal: 14.9s\tremaining: 15.7s\n",
            "487:\tlearn: 0.2537188\ttotal: 15s\tremaining: 15.7s\n",
            "488:\tlearn: 0.2534156\ttotal: 15s\tremaining: 15.7s\n",
            "489:\tlearn: 0.2530923\ttotal: 15s\tremaining: 15.6s\n",
            "490:\tlearn: 0.2526984\ttotal: 15.1s\tremaining: 15.6s\n",
            "491:\tlearn: 0.2520124\ttotal: 15.1s\tremaining: 15.6s\n",
            "492:\tlearn: 0.2513878\ttotal: 15.1s\tremaining: 15.5s\n",
            "493:\tlearn: 0.2509288\ttotal: 15.1s\tremaining: 15.5s\n",
            "494:\tlearn: 0.2502657\ttotal: 15.2s\tremaining: 15.5s\n",
            "495:\tlearn: 0.2497779\ttotal: 15.2s\tremaining: 15.4s\n",
            "496:\tlearn: 0.2491148\ttotal: 15.2s\tremaining: 15.4s\n",
            "497:\tlearn: 0.2487014\ttotal: 15.3s\tremaining: 15.4s\n",
            "498:\tlearn: 0.2480930\ttotal: 15.3s\tremaining: 15.3s\n",
            "499:\tlearn: 0.2475590\ttotal: 15.3s\tremaining: 15.3s\n",
            "500:\tlearn: 0.2472621\ttotal: 15.4s\tremaining: 15.3s\n",
            "501:\tlearn: 0.2469531\ttotal: 15.4s\tremaining: 15.3s\n",
            "502:\tlearn: 0.2464870\ttotal: 15.4s\tremaining: 15.2s\n",
            "503:\tlearn: 0.2460479\ttotal: 15.4s\tremaining: 15.2s\n",
            "504:\tlearn: 0.2454923\ttotal: 15.5s\tremaining: 15.2s\n",
            "505:\tlearn: 0.2450857\ttotal: 15.5s\tremaining: 15.1s\n",
            "506:\tlearn: 0.2445171\ttotal: 15.5s\tremaining: 15.1s\n",
            "507:\tlearn: 0.2440023\ttotal: 15.6s\tremaining: 15.1s\n",
            "508:\tlearn: 0.2436783\ttotal: 15.6s\tremaining: 15.1s\n",
            "509:\tlearn: 0.2433743\ttotal: 15.6s\tremaining: 15s\n",
            "510:\tlearn: 0.2428370\ttotal: 15.7s\tremaining: 15s\n",
            "511:\tlearn: 0.2422554\ttotal: 15.7s\tremaining: 15s\n",
            "512:\tlearn: 0.2418081\ttotal: 15.7s\tremaining: 14.9s\n",
            "513:\tlearn: 0.2415143\ttotal: 15.8s\tremaining: 14.9s\n",
            "514:\tlearn: 0.2411927\ttotal: 15.8s\tremaining: 14.9s\n",
            "515:\tlearn: 0.2404347\ttotal: 15.8s\tremaining: 14.8s\n",
            "516:\tlearn: 0.2399659\ttotal: 15.8s\tremaining: 14.8s\n",
            "517:\tlearn: 0.2396838\ttotal: 15.9s\tremaining: 14.8s\n",
            "518:\tlearn: 0.2392556\ttotal: 15.9s\tremaining: 14.7s\n",
            "519:\tlearn: 0.2386751\ttotal: 15.9s\tremaining: 14.7s\n",
            "520:\tlearn: 0.2384484\ttotal: 16s\tremaining: 14.7s\n",
            "521:\tlearn: 0.2381821\ttotal: 16s\tremaining: 14.6s\n",
            "522:\tlearn: 0.2378218\ttotal: 16s\tremaining: 14.6s\n",
            "523:\tlearn: 0.2374063\ttotal: 16.1s\tremaining: 14.6s\n",
            "524:\tlearn: 0.2371555\ttotal: 16.1s\tremaining: 14.5s\n",
            "525:\tlearn: 0.2367548\ttotal: 16.1s\tremaining: 14.5s\n",
            "526:\tlearn: 0.2362561\ttotal: 16.1s\tremaining: 14.5s\n",
            "527:\tlearn: 0.2356695\ttotal: 16.2s\tremaining: 14.5s\n",
            "528:\tlearn: 0.2353745\ttotal: 16.2s\tremaining: 14.4s\n",
            "529:\tlearn: 0.2350980\ttotal: 16.2s\tremaining: 14.4s\n",
            "530:\tlearn: 0.2346651\ttotal: 16.3s\tremaining: 14.4s\n",
            "531:\tlearn: 0.2342720\ttotal: 16.3s\tremaining: 14.3s\n",
            "532:\tlearn: 0.2338303\ttotal: 16.3s\tremaining: 14.3s\n",
            "533:\tlearn: 0.2333478\ttotal: 16.4s\tremaining: 14.3s\n",
            "534:\tlearn: 0.2330087\ttotal: 16.4s\tremaining: 14.2s\n",
            "535:\tlearn: 0.2323848\ttotal: 16.4s\tremaining: 14.2s\n",
            "536:\tlearn: 0.2318852\ttotal: 16.4s\tremaining: 14.2s\n",
            "537:\tlearn: 0.2315880\ttotal: 16.5s\tremaining: 14.2s\n",
            "538:\tlearn: 0.2313240\ttotal: 16.5s\tremaining: 14.1s\n",
            "539:\tlearn: 0.2309025\ttotal: 16.5s\tremaining: 14.1s\n",
            "540:\tlearn: 0.2306069\ttotal: 16.6s\tremaining: 14.1s\n",
            "541:\tlearn: 0.2299774\ttotal: 16.6s\tremaining: 14s\n",
            "542:\tlearn: 0.2296432\ttotal: 16.6s\tremaining: 14s\n",
            "543:\tlearn: 0.2293107\ttotal: 16.7s\tremaining: 14s\n",
            "544:\tlearn: 0.2290229\ttotal: 16.7s\tremaining: 13.9s\n",
            "545:\tlearn: 0.2284443\ttotal: 16.7s\tremaining: 13.9s\n",
            "546:\tlearn: 0.2279139\ttotal: 16.7s\tremaining: 13.9s\n",
            "547:\tlearn: 0.2276937\ttotal: 16.8s\tremaining: 13.8s\n",
            "548:\tlearn: 0.2274571\ttotal: 16.8s\tremaining: 13.8s\n",
            "549:\tlearn: 0.2272185\ttotal: 16.8s\tremaining: 13.8s\n",
            "550:\tlearn: 0.2268472\ttotal: 16.9s\tremaining: 13.7s\n",
            "551:\tlearn: 0.2264194\ttotal: 16.9s\tremaining: 13.7s\n",
            "552:\tlearn: 0.2259992\ttotal: 16.9s\tremaining: 13.7s\n",
            "553:\tlearn: 0.2257519\ttotal: 17s\tremaining: 13.7s\n",
            "554:\tlearn: 0.2254132\ttotal: 17s\tremaining: 13.6s\n",
            "555:\tlearn: 0.2251998\ttotal: 17s\tremaining: 13.6s\n",
            "556:\tlearn: 0.2249935\ttotal: 17s\tremaining: 13.6s\n",
            "557:\tlearn: 0.2247911\ttotal: 17.1s\tremaining: 13.5s\n",
            "558:\tlearn: 0.2242001\ttotal: 17.1s\tremaining: 13.5s\n",
            "559:\tlearn: 0.2239168\ttotal: 17.1s\tremaining: 13.5s\n",
            "560:\tlearn: 0.2236654\ttotal: 17.2s\tremaining: 13.4s\n",
            "561:\tlearn: 0.2233941\ttotal: 17.2s\tremaining: 13.4s\n",
            "562:\tlearn: 0.2228945\ttotal: 17.2s\tremaining: 13.4s\n",
            "563:\tlearn: 0.2224188\ttotal: 17.3s\tremaining: 13.3s\n",
            "564:\tlearn: 0.2221215\ttotal: 17.3s\tremaining: 13.3s\n",
            "565:\tlearn: 0.2218789\ttotal: 17.3s\tremaining: 13.3s\n",
            "566:\tlearn: 0.2216976\ttotal: 17.4s\tremaining: 13.3s\n",
            "567:\tlearn: 0.2213321\ttotal: 17.4s\tremaining: 13.2s\n",
            "568:\tlearn: 0.2210736\ttotal: 17.4s\tremaining: 13.2s\n",
            "569:\tlearn: 0.2205760\ttotal: 17.4s\tremaining: 13.2s\n",
            "570:\tlearn: 0.2204034\ttotal: 17.5s\tremaining: 13.1s\n",
            "571:\tlearn: 0.2201299\ttotal: 17.5s\tremaining: 13.1s\n",
            "572:\tlearn: 0.2199318\ttotal: 17.5s\tremaining: 13.1s\n",
            "573:\tlearn: 0.2196319\ttotal: 17.6s\tremaining: 13s\n",
            "574:\tlearn: 0.2192901\ttotal: 17.6s\tremaining: 13s\n",
            "575:\tlearn: 0.2189615\ttotal: 17.6s\tremaining: 13s\n",
            "576:\tlearn: 0.2185326\ttotal: 17.7s\tremaining: 12.9s\n",
            "577:\tlearn: 0.2181113\ttotal: 17.7s\tremaining: 12.9s\n",
            "578:\tlearn: 0.2178793\ttotal: 17.7s\tremaining: 12.9s\n",
            "579:\tlearn: 0.2174817\ttotal: 17.7s\tremaining: 12.9s\n",
            "580:\tlearn: 0.2171983\ttotal: 17.8s\tremaining: 12.8s\n",
            "581:\tlearn: 0.2168118\ttotal: 17.8s\tremaining: 12.8s\n",
            "582:\tlearn: 0.2164090\ttotal: 17.8s\tremaining: 12.8s\n",
            "583:\tlearn: 0.2162327\ttotal: 17.9s\tremaining: 12.7s\n",
            "584:\tlearn: 0.2160164\ttotal: 17.9s\tremaining: 12.7s\n",
            "585:\tlearn: 0.2156831\ttotal: 17.9s\tremaining: 12.7s\n",
            "586:\tlearn: 0.2153645\ttotal: 18s\tremaining: 12.6s\n",
            "587:\tlearn: 0.2149481\ttotal: 18s\tremaining: 12.6s\n",
            "588:\tlearn: 0.2143945\ttotal: 18s\tremaining: 12.6s\n",
            "589:\tlearn: 0.2140936\ttotal: 18.1s\tremaining: 12.5s\n",
            "590:\tlearn: 0.2138102\ttotal: 18.1s\tremaining: 12.5s\n",
            "591:\tlearn: 0.2132962\ttotal: 18.1s\tremaining: 12.5s\n",
            "592:\tlearn: 0.2128964\ttotal: 18.1s\tremaining: 12.5s\n",
            "593:\tlearn: 0.2125611\ttotal: 18.2s\tremaining: 12.4s\n",
            "594:\tlearn: 0.2120975\ttotal: 18.2s\tremaining: 12.4s\n",
            "595:\tlearn: 0.2116878\ttotal: 18.2s\tremaining: 12.4s\n",
            "596:\tlearn: 0.2114341\ttotal: 18.3s\tremaining: 12.3s\n",
            "597:\tlearn: 0.2112322\ttotal: 18.3s\tremaining: 12.3s\n",
            "598:\tlearn: 0.2108287\ttotal: 18.3s\tremaining: 12.3s\n",
            "599:\tlearn: 0.2103471\ttotal: 18.4s\tremaining: 12.2s\n",
            "600:\tlearn: 0.2098238\ttotal: 18.4s\tremaining: 12.2s\n",
            "601:\tlearn: 0.2095374\ttotal: 18.4s\tremaining: 12.2s\n",
            "602:\tlearn: 0.2092375\ttotal: 18.5s\tremaining: 12.2s\n",
            "603:\tlearn: 0.2089172\ttotal: 18.5s\tremaining: 12.1s\n",
            "604:\tlearn: 0.2083221\ttotal: 18.5s\tremaining: 12.1s\n",
            "605:\tlearn: 0.2079736\ttotal: 18.5s\tremaining: 12.1s\n",
            "606:\tlearn: 0.2074679\ttotal: 18.6s\tremaining: 12s\n",
            "607:\tlearn: 0.2071616\ttotal: 18.6s\tremaining: 12s\n",
            "608:\tlearn: 0.2068553\ttotal: 18.6s\tremaining: 12s\n",
            "609:\tlearn: 0.2064988\ttotal: 18.7s\tremaining: 11.9s\n",
            "610:\tlearn: 0.2061137\ttotal: 18.7s\tremaining: 11.9s\n",
            "611:\tlearn: 0.2057810\ttotal: 18.7s\tremaining: 11.9s\n",
            "612:\tlearn: 0.2054926\ttotal: 18.8s\tremaining: 11.8s\n",
            "613:\tlearn: 0.2051219\ttotal: 18.8s\tremaining: 11.8s\n",
            "614:\tlearn: 0.2047468\ttotal: 18.8s\tremaining: 11.8s\n",
            "615:\tlearn: 0.2043380\ttotal: 18.9s\tremaining: 11.8s\n",
            "616:\tlearn: 0.2039867\ttotal: 18.9s\tremaining: 11.7s\n",
            "617:\tlearn: 0.2033763\ttotal: 18.9s\tremaining: 11.7s\n",
            "618:\tlearn: 0.2031121\ttotal: 18.9s\tremaining: 11.7s\n",
            "619:\tlearn: 0.2025739\ttotal: 19s\tremaining: 11.6s\n",
            "620:\tlearn: 0.2023357\ttotal: 19s\tremaining: 11.6s\n",
            "621:\tlearn: 0.2021637\ttotal: 19s\tremaining: 11.6s\n",
            "622:\tlearn: 0.2019460\ttotal: 19.1s\tremaining: 11.5s\n",
            "623:\tlearn: 0.2017163\ttotal: 19.1s\tremaining: 11.5s\n",
            "624:\tlearn: 0.2014792\ttotal: 19.1s\tremaining: 11.5s\n",
            "625:\tlearn: 0.2011786\ttotal: 19.2s\tremaining: 11.4s\n",
            "626:\tlearn: 0.2007868\ttotal: 19.2s\tremaining: 11.4s\n",
            "627:\tlearn: 0.2005586\ttotal: 19.2s\tremaining: 11.4s\n",
            "628:\tlearn: 0.2002086\ttotal: 19.2s\tremaining: 11.4s\n",
            "629:\tlearn: 0.1999865\ttotal: 19.3s\tremaining: 11.3s\n",
            "630:\tlearn: 0.1996641\ttotal: 19.3s\tremaining: 11.3s\n",
            "631:\tlearn: 0.1993311\ttotal: 19.3s\tremaining: 11.3s\n",
            "632:\tlearn: 0.1990627\ttotal: 19.4s\tremaining: 11.2s\n",
            "633:\tlearn: 0.1988988\ttotal: 19.4s\tremaining: 11.2s\n",
            "634:\tlearn: 0.1986149\ttotal: 19.4s\tremaining: 11.2s\n",
            "635:\tlearn: 0.1983052\ttotal: 19.5s\tremaining: 11.1s\n",
            "636:\tlearn: 0.1978494\ttotal: 19.5s\tremaining: 11.1s\n",
            "637:\tlearn: 0.1974443\ttotal: 19.5s\tremaining: 11.1s\n",
            "638:\tlearn: 0.1971972\ttotal: 19.6s\tremaining: 11s\n",
            "639:\tlearn: 0.1966221\ttotal: 19.6s\tremaining: 11s\n",
            "640:\tlearn: 0.1964694\ttotal: 19.6s\tremaining: 11s\n",
            "641:\tlearn: 0.1961268\ttotal: 19.6s\tremaining: 11s\n",
            "642:\tlearn: 0.1959206\ttotal: 19.7s\tremaining: 10.9s\n",
            "643:\tlearn: 0.1958055\ttotal: 19.7s\tremaining: 10.9s\n",
            "644:\tlearn: 0.1953490\ttotal: 19.7s\tremaining: 10.9s\n",
            "645:\tlearn: 0.1949448\ttotal: 19.8s\tremaining: 10.8s\n",
            "646:\tlearn: 0.1945614\ttotal: 19.8s\tremaining: 10.8s\n",
            "647:\tlearn: 0.1942010\ttotal: 19.8s\tremaining: 10.8s\n",
            "648:\tlearn: 0.1939920\ttotal: 19.9s\tremaining: 10.7s\n",
            "649:\tlearn: 0.1934396\ttotal: 19.9s\tremaining: 10.7s\n",
            "650:\tlearn: 0.1930313\ttotal: 19.9s\tremaining: 10.7s\n",
            "651:\tlearn: 0.1928891\ttotal: 19.9s\tremaining: 10.6s\n",
            "652:\tlearn: 0.1924611\ttotal: 20s\tremaining: 10.6s\n",
            "653:\tlearn: 0.1923095\ttotal: 20s\tremaining: 10.6s\n",
            "654:\tlearn: 0.1921937\ttotal: 20s\tremaining: 10.6s\n",
            "655:\tlearn: 0.1917929\ttotal: 20.1s\tremaining: 10.5s\n",
            "656:\tlearn: 0.1913895\ttotal: 20.1s\tremaining: 10.5s\n",
            "657:\tlearn: 0.1911671\ttotal: 20.1s\tremaining: 10.5s\n",
            "658:\tlearn: 0.1909824\ttotal: 20.2s\tremaining: 10.4s\n",
            "659:\tlearn: 0.1906707\ttotal: 20.2s\tremaining: 10.4s\n",
            "660:\tlearn: 0.1904970\ttotal: 20.2s\tremaining: 10.4s\n",
            "661:\tlearn: 0.1902083\ttotal: 20.3s\tremaining: 10.3s\n",
            "662:\tlearn: 0.1898927\ttotal: 20.3s\tremaining: 10.3s\n",
            "663:\tlearn: 0.1892912\ttotal: 20.3s\tremaining: 10.3s\n",
            "664:\tlearn: 0.1889785\ttotal: 20.3s\tremaining: 10.3s\n",
            "665:\tlearn: 0.1887754\ttotal: 20.4s\tremaining: 10.2s\n",
            "666:\tlearn: 0.1884812\ttotal: 20.4s\tremaining: 10.2s\n",
            "667:\tlearn: 0.1879081\ttotal: 20.4s\tremaining: 10.2s\n",
            "668:\tlearn: 0.1873436\ttotal: 20.5s\tremaining: 10.1s\n",
            "669:\tlearn: 0.1869332\ttotal: 20.5s\tremaining: 10.1s\n",
            "670:\tlearn: 0.1866037\ttotal: 20.5s\tremaining: 10.1s\n",
            "671:\tlearn: 0.1863144\ttotal: 20.6s\tremaining: 10s\n",
            "672:\tlearn: 0.1861279\ttotal: 20.6s\tremaining: 10s\n",
            "673:\tlearn: 0.1857164\ttotal: 20.6s\tremaining: 9.98s\n",
            "674:\tlearn: 0.1853425\ttotal: 20.7s\tremaining: 9.95s\n",
            "675:\tlearn: 0.1850121\ttotal: 20.7s\tremaining: 9.92s\n",
            "676:\tlearn: 0.1846937\ttotal: 20.7s\tremaining: 9.89s\n",
            "677:\tlearn: 0.1845001\ttotal: 20.8s\tremaining: 9.86s\n",
            "678:\tlearn: 0.1842738\ttotal: 20.8s\tremaining: 9.82s\n",
            "679:\tlearn: 0.1839492\ttotal: 20.8s\tremaining: 9.79s\n",
            "680:\tlearn: 0.1837048\ttotal: 20.8s\tremaining: 9.76s\n",
            "681:\tlearn: 0.1834377\ttotal: 20.9s\tremaining: 9.73s\n",
            "682:\tlearn: 0.1831695\ttotal: 20.9s\tremaining: 9.7s\n",
            "683:\tlearn: 0.1829202\ttotal: 20.9s\tremaining: 9.67s\n",
            "684:\tlearn: 0.1826296\ttotal: 21s\tremaining: 9.64s\n",
            "685:\tlearn: 0.1823403\ttotal: 21s\tremaining: 9.61s\n",
            "686:\tlearn: 0.1821169\ttotal: 21s\tremaining: 9.58s\n",
            "687:\tlearn: 0.1818837\ttotal: 21.1s\tremaining: 9.55s\n",
            "688:\tlearn: 0.1816877\ttotal: 21.1s\tremaining: 9.52s\n",
            "689:\tlearn: 0.1815243\ttotal: 21.1s\tremaining: 9.48s\n",
            "690:\tlearn: 0.1811007\ttotal: 21.1s\tremaining: 9.45s\n",
            "691:\tlearn: 0.1807959\ttotal: 21.2s\tremaining: 9.42s\n",
            "692:\tlearn: 0.1804569\ttotal: 21.2s\tremaining: 9.39s\n",
            "693:\tlearn: 0.1801966\ttotal: 21.2s\tremaining: 9.36s\n",
            "694:\tlearn: 0.1798602\ttotal: 21.3s\tremaining: 9.33s\n",
            "695:\tlearn: 0.1796915\ttotal: 21.3s\tremaining: 9.3s\n",
            "696:\tlearn: 0.1795648\ttotal: 21.3s\tremaining: 9.27s\n",
            "697:\tlearn: 0.1793280\ttotal: 21.4s\tremaining: 9.24s\n",
            "698:\tlearn: 0.1791092\ttotal: 21.4s\tremaining: 9.21s\n",
            "699:\tlearn: 0.1788156\ttotal: 21.4s\tremaining: 9.18s\n",
            "700:\tlearn: 0.1786143\ttotal: 21.5s\tremaining: 9.15s\n",
            "701:\tlearn: 0.1783446\ttotal: 21.5s\tremaining: 9.12s\n",
            "702:\tlearn: 0.1780197\ttotal: 21.5s\tremaining: 9.09s\n",
            "703:\tlearn: 0.1777258\ttotal: 21.5s\tremaining: 9.06s\n",
            "704:\tlearn: 0.1774781\ttotal: 21.6s\tremaining: 9.03s\n",
            "705:\tlearn: 0.1772163\ttotal: 21.6s\tremaining: 9s\n",
            "706:\tlearn: 0.1770341\ttotal: 21.6s\tremaining: 8.97s\n",
            "707:\tlearn: 0.1768370\ttotal: 21.7s\tremaining: 8.94s\n",
            "708:\tlearn: 0.1765342\ttotal: 21.7s\tremaining: 8.9s\n",
            "709:\tlearn: 0.1762793\ttotal: 21.7s\tremaining: 8.88s\n",
            "710:\tlearn: 0.1759638\ttotal: 21.8s\tremaining: 8.84s\n",
            "711:\tlearn: 0.1755458\ttotal: 21.8s\tremaining: 8.81s\n",
            "712:\tlearn: 0.1752718\ttotal: 21.8s\tremaining: 8.78s\n",
            "713:\tlearn: 0.1751239\ttotal: 21.8s\tremaining: 8.75s\n",
            "714:\tlearn: 0.1746378\ttotal: 21.9s\tremaining: 8.72s\n",
            "715:\tlearn: 0.1743961\ttotal: 21.9s\tremaining: 8.69s\n",
            "716:\tlearn: 0.1739640\ttotal: 21.9s\tremaining: 8.66s\n",
            "717:\tlearn: 0.1737865\ttotal: 22s\tremaining: 8.63s\n",
            "718:\tlearn: 0.1735014\ttotal: 22s\tremaining: 8.6s\n",
            "719:\tlearn: 0.1733960\ttotal: 22s\tremaining: 8.57s\n",
            "720:\tlearn: 0.1730721\ttotal: 22.1s\tremaining: 8.54s\n",
            "721:\tlearn: 0.1729113\ttotal: 22.1s\tremaining: 8.51s\n",
            "722:\tlearn: 0.1726538\ttotal: 22.1s\tremaining: 8.47s\n",
            "723:\tlearn: 0.1722718\ttotal: 22.1s\tremaining: 8.44s\n",
            "724:\tlearn: 0.1720311\ttotal: 22.2s\tremaining: 8.41s\n",
            "725:\tlearn: 0.1718436\ttotal: 22.2s\tremaining: 8.38s\n",
            "726:\tlearn: 0.1717055\ttotal: 22.2s\tremaining: 8.35s\n",
            "727:\tlearn: 0.1714661\ttotal: 22.3s\tremaining: 8.32s\n",
            "728:\tlearn: 0.1712046\ttotal: 22.3s\tremaining: 8.29s\n",
            "729:\tlearn: 0.1709708\ttotal: 22.3s\tremaining: 8.26s\n",
            "730:\tlearn: 0.1708296\ttotal: 22.4s\tremaining: 8.23s\n",
            "731:\tlearn: 0.1705133\ttotal: 22.4s\tremaining: 8.2s\n",
            "732:\tlearn: 0.1702673\ttotal: 22.4s\tremaining: 8.17s\n",
            "733:\tlearn: 0.1700420\ttotal: 22.5s\tremaining: 8.14s\n",
            "734:\tlearn: 0.1697603\ttotal: 22.5s\tremaining: 8.11s\n",
            "735:\tlearn: 0.1695878\ttotal: 22.5s\tremaining: 8.08s\n",
            "736:\tlearn: 0.1692209\ttotal: 22.5s\tremaining: 8.05s\n",
            "737:\tlearn: 0.1689380\ttotal: 22.6s\tremaining: 8.02s\n",
            "738:\tlearn: 0.1686797\ttotal: 22.6s\tremaining: 7.99s\n",
            "739:\tlearn: 0.1684056\ttotal: 22.6s\tremaining: 7.96s\n",
            "740:\tlearn: 0.1680456\ttotal: 22.7s\tremaining: 7.92s\n",
            "741:\tlearn: 0.1679077\ttotal: 22.7s\tremaining: 7.89s\n",
            "742:\tlearn: 0.1675024\ttotal: 22.7s\tremaining: 7.86s\n",
            "743:\tlearn: 0.1673127\ttotal: 22.8s\tremaining: 7.83s\n",
            "744:\tlearn: 0.1669658\ttotal: 22.8s\tremaining: 7.8s\n",
            "745:\tlearn: 0.1667839\ttotal: 22.8s\tremaining: 7.77s\n",
            "746:\tlearn: 0.1664783\ttotal: 22.9s\tremaining: 7.74s\n",
            "747:\tlearn: 0.1662175\ttotal: 22.9s\tremaining: 7.71s\n",
            "748:\tlearn: 0.1657627\ttotal: 22.9s\tremaining: 7.68s\n",
            "749:\tlearn: 0.1655195\ttotal: 22.9s\tremaining: 7.65s\n",
            "750:\tlearn: 0.1650784\ttotal: 23s\tremaining: 7.62s\n",
            "751:\tlearn: 0.1647253\ttotal: 23s\tremaining: 7.59s\n",
            "752:\tlearn: 0.1645806\ttotal: 23s\tremaining: 7.55s\n",
            "753:\tlearn: 0.1642048\ttotal: 23.1s\tremaining: 7.52s\n",
            "754:\tlearn: 0.1639567\ttotal: 23.1s\tremaining: 7.49s\n",
            "755:\tlearn: 0.1636062\ttotal: 23.1s\tremaining: 7.46s\n",
            "756:\tlearn: 0.1633980\ttotal: 23.2s\tremaining: 7.43s\n",
            "757:\tlearn: 0.1632162\ttotal: 23.2s\tremaining: 7.4s\n",
            "758:\tlearn: 0.1629930\ttotal: 23.2s\tremaining: 7.37s\n",
            "759:\tlearn: 0.1628001\ttotal: 23.2s\tremaining: 7.34s\n",
            "760:\tlearn: 0.1626004\ttotal: 23.3s\tremaining: 7.31s\n",
            "761:\tlearn: 0.1623811\ttotal: 23.3s\tremaining: 7.28s\n",
            "762:\tlearn: 0.1622119\ttotal: 23.3s\tremaining: 7.25s\n",
            "763:\tlearn: 0.1620026\ttotal: 23.4s\tremaining: 7.22s\n",
            "764:\tlearn: 0.1616788\ttotal: 23.4s\tremaining: 7.18s\n",
            "765:\tlearn: 0.1615247\ttotal: 23.4s\tremaining: 7.16s\n",
            "766:\tlearn: 0.1613378\ttotal: 23.5s\tremaining: 7.13s\n",
            "767:\tlearn: 0.1611219\ttotal: 23.5s\tremaining: 7.09s\n",
            "768:\tlearn: 0.1610327\ttotal: 23.5s\tremaining: 7.07s\n",
            "769:\tlearn: 0.1608362\ttotal: 23.5s\tremaining: 7.03s\n",
            "770:\tlearn: 0.1603418\ttotal: 23.6s\tremaining: 7s\n",
            "771:\tlearn: 0.1601496\ttotal: 23.6s\tremaining: 6.97s\n",
            "772:\tlearn: 0.1598765\ttotal: 23.6s\tremaining: 6.94s\n",
            "773:\tlearn: 0.1597159\ttotal: 23.7s\tremaining: 6.91s\n",
            "774:\tlearn: 0.1594112\ttotal: 23.7s\tremaining: 6.88s\n",
            "775:\tlearn: 0.1593383\ttotal: 23.7s\tremaining: 6.85s\n",
            "776:\tlearn: 0.1591475\ttotal: 23.8s\tremaining: 6.82s\n",
            "777:\tlearn: 0.1588795\ttotal: 23.8s\tremaining: 6.79s\n",
            "778:\tlearn: 0.1585100\ttotal: 23.8s\tremaining: 6.76s\n",
            "779:\tlearn: 0.1583301\ttotal: 23.9s\tremaining: 6.73s\n",
            "780:\tlearn: 0.1581755\ttotal: 23.9s\tremaining: 6.7s\n",
            "781:\tlearn: 0.1580364\ttotal: 23.9s\tremaining: 6.67s\n",
            "782:\tlearn: 0.1576965\ttotal: 23.9s\tremaining: 6.64s\n",
            "783:\tlearn: 0.1574509\ttotal: 24s\tremaining: 6.61s\n",
            "784:\tlearn: 0.1571224\ttotal: 24s\tremaining: 6.57s\n",
            "785:\tlearn: 0.1568856\ttotal: 24s\tremaining: 6.54s\n",
            "786:\tlearn: 0.1566572\ttotal: 24.1s\tremaining: 6.51s\n",
            "787:\tlearn: 0.1564089\ttotal: 24.1s\tremaining: 6.48s\n",
            "788:\tlearn: 0.1561751\ttotal: 24.1s\tremaining: 6.45s\n",
            "789:\tlearn: 0.1558825\ttotal: 24.2s\tremaining: 6.42s\n",
            "790:\tlearn: 0.1557421\ttotal: 24.2s\tremaining: 6.39s\n",
            "791:\tlearn: 0.1555681\ttotal: 24.2s\tremaining: 6.36s\n",
            "792:\tlearn: 0.1553731\ttotal: 24.2s\tremaining: 6.33s\n",
            "793:\tlearn: 0.1552171\ttotal: 24.3s\tremaining: 6.3s\n",
            "794:\tlearn: 0.1549320\ttotal: 24.3s\tremaining: 6.27s\n",
            "795:\tlearn: 0.1546005\ttotal: 24.3s\tremaining: 6.24s\n",
            "796:\tlearn: 0.1543801\ttotal: 24.4s\tremaining: 6.21s\n",
            "797:\tlearn: 0.1540610\ttotal: 24.4s\tremaining: 6.17s\n",
            "798:\tlearn: 0.1538089\ttotal: 24.4s\tremaining: 6.14s\n",
            "799:\tlearn: 0.1536555\ttotal: 24.5s\tremaining: 6.12s\n",
            "800:\tlearn: 0.1534044\ttotal: 24.5s\tremaining: 6.09s\n",
            "801:\tlearn: 0.1532650\ttotal: 24.5s\tremaining: 6.05s\n",
            "802:\tlearn: 0.1530177\ttotal: 24.6s\tremaining: 6.02s\n",
            "803:\tlearn: 0.1526924\ttotal: 24.6s\tremaining: 5.99s\n",
            "804:\tlearn: 0.1524575\ttotal: 24.6s\tremaining: 5.96s\n",
            "805:\tlearn: 0.1523196\ttotal: 24.6s\tremaining: 5.93s\n",
            "806:\tlearn: 0.1520473\ttotal: 24.7s\tremaining: 5.9s\n",
            "807:\tlearn: 0.1518641\ttotal: 24.7s\tremaining: 5.87s\n",
            "808:\tlearn: 0.1515689\ttotal: 24.7s\tremaining: 5.84s\n",
            "809:\tlearn: 0.1512612\ttotal: 24.8s\tremaining: 5.81s\n",
            "810:\tlearn: 0.1511360\ttotal: 24.8s\tremaining: 5.78s\n",
            "811:\tlearn: 0.1509232\ttotal: 24.8s\tremaining: 5.75s\n",
            "812:\tlearn: 0.1507856\ttotal: 24.9s\tremaining: 5.72s\n",
            "813:\tlearn: 0.1506180\ttotal: 24.9s\tremaining: 5.69s\n",
            "814:\tlearn: 0.1504421\ttotal: 24.9s\tremaining: 5.66s\n",
            "815:\tlearn: 0.1502776\ttotal: 25s\tremaining: 5.63s\n",
            "816:\tlearn: 0.1500944\ttotal: 25s\tremaining: 5.6s\n",
            "817:\tlearn: 0.1498421\ttotal: 25s\tremaining: 5.57s\n",
            "818:\tlearn: 0.1495790\ttotal: 25.1s\tremaining: 5.54s\n",
            "819:\tlearn: 0.1493291\ttotal: 25.1s\tremaining: 5.51s\n",
            "820:\tlearn: 0.1491429\ttotal: 25.1s\tremaining: 5.48s\n",
            "821:\tlearn: 0.1489993\ttotal: 25.2s\tremaining: 5.45s\n",
            "822:\tlearn: 0.1488749\ttotal: 25.2s\tremaining: 5.42s\n",
            "823:\tlearn: 0.1487821\ttotal: 25.2s\tremaining: 5.38s\n",
            "824:\tlearn: 0.1485791\ttotal: 25.2s\tremaining: 5.35s\n",
            "825:\tlearn: 0.1483244\ttotal: 25.3s\tremaining: 5.32s\n",
            "826:\tlearn: 0.1479532\ttotal: 25.3s\tremaining: 5.29s\n",
            "827:\tlearn: 0.1478171\ttotal: 25.3s\tremaining: 5.26s\n",
            "828:\tlearn: 0.1476484\ttotal: 25.4s\tremaining: 5.23s\n",
            "829:\tlearn: 0.1473939\ttotal: 25.4s\tremaining: 5.2s\n",
            "830:\tlearn: 0.1472139\ttotal: 25.4s\tremaining: 5.17s\n",
            "831:\tlearn: 0.1469851\ttotal: 25.5s\tremaining: 5.14s\n",
            "832:\tlearn: 0.1468308\ttotal: 25.5s\tremaining: 5.11s\n",
            "833:\tlearn: 0.1466087\ttotal: 25.5s\tremaining: 5.08s\n",
            "834:\tlearn: 0.1463802\ttotal: 25.5s\tremaining: 5.05s\n",
            "835:\tlearn: 0.1462621\ttotal: 25.6s\tremaining: 5.02s\n",
            "836:\tlearn: 0.1459596\ttotal: 25.6s\tremaining: 4.99s\n",
            "837:\tlearn: 0.1456791\ttotal: 25.6s\tremaining: 4.96s\n",
            "838:\tlearn: 0.1453219\ttotal: 25.7s\tremaining: 4.92s\n",
            "839:\tlearn: 0.1452018\ttotal: 25.7s\tremaining: 4.89s\n",
            "840:\tlearn: 0.1449597\ttotal: 25.7s\tremaining: 4.86s\n",
            "841:\tlearn: 0.1447482\ttotal: 25.8s\tremaining: 4.83s\n",
            "842:\tlearn: 0.1445272\ttotal: 25.8s\tremaining: 4.8s\n",
            "843:\tlearn: 0.1442066\ttotal: 25.8s\tremaining: 4.77s\n",
            "844:\tlearn: 0.1441591\ttotal: 25.8s\tremaining: 4.74s\n",
            "845:\tlearn: 0.1439917\ttotal: 25.9s\tremaining: 4.71s\n",
            "846:\tlearn: 0.1437848\ttotal: 25.9s\tremaining: 4.68s\n",
            "847:\tlearn: 0.1434825\ttotal: 26s\tremaining: 4.65s\n",
            "848:\tlearn: 0.1433614\ttotal: 26s\tremaining: 4.62s\n",
            "849:\tlearn: 0.1432146\ttotal: 26s\tremaining: 4.59s\n",
            "850:\tlearn: 0.1431405\ttotal: 26.1s\tremaining: 4.56s\n",
            "851:\tlearn: 0.1428243\ttotal: 26.1s\tremaining: 4.53s\n",
            "852:\tlearn: 0.1427687\ttotal: 26.1s\tremaining: 4.5s\n",
            "853:\tlearn: 0.1424953\ttotal: 26.1s\tremaining: 4.47s\n",
            "854:\tlearn: 0.1423071\ttotal: 26.2s\tremaining: 4.44s\n",
            "855:\tlearn: 0.1421432\ttotal: 26.2s\tremaining: 4.41s\n",
            "856:\tlearn: 0.1419785\ttotal: 26.2s\tremaining: 4.38s\n",
            "857:\tlearn: 0.1418399\ttotal: 26.3s\tremaining: 4.35s\n",
            "858:\tlearn: 0.1416396\ttotal: 26.3s\tremaining: 4.32s\n",
            "859:\tlearn: 0.1415095\ttotal: 26.3s\tremaining: 4.29s\n",
            "860:\tlearn: 0.1413924\ttotal: 26.4s\tremaining: 4.26s\n",
            "861:\tlearn: 0.1412042\ttotal: 26.4s\tremaining: 4.23s\n",
            "862:\tlearn: 0.1409144\ttotal: 26.4s\tremaining: 4.2s\n",
            "863:\tlearn: 0.1407729\ttotal: 26.5s\tremaining: 4.17s\n",
            "864:\tlearn: 0.1406712\ttotal: 26.5s\tremaining: 4.13s\n",
            "865:\tlearn: 0.1404507\ttotal: 26.5s\tremaining: 4.11s\n",
            "866:\tlearn: 0.1400926\ttotal: 26.6s\tremaining: 4.08s\n",
            "867:\tlearn: 0.1399801\ttotal: 26.6s\tremaining: 4.04s\n",
            "868:\tlearn: 0.1397503\ttotal: 26.6s\tremaining: 4.01s\n",
            "869:\tlearn: 0.1396083\ttotal: 26.7s\tremaining: 3.98s\n",
            "870:\tlearn: 0.1394180\ttotal: 26.7s\tremaining: 3.95s\n",
            "871:\tlearn: 0.1392461\ttotal: 26.7s\tremaining: 3.92s\n",
            "872:\tlearn: 0.1391100\ttotal: 26.7s\tremaining: 3.89s\n",
            "873:\tlearn: 0.1389320\ttotal: 26.8s\tremaining: 3.86s\n",
            "874:\tlearn: 0.1386964\ttotal: 26.8s\tremaining: 3.83s\n",
            "875:\tlearn: 0.1384654\ttotal: 26.8s\tremaining: 3.8s\n",
            "876:\tlearn: 0.1382400\ttotal: 26.9s\tremaining: 3.77s\n",
            "877:\tlearn: 0.1381660\ttotal: 26.9s\tremaining: 3.74s\n",
            "878:\tlearn: 0.1378807\ttotal: 26.9s\tremaining: 3.71s\n",
            "879:\tlearn: 0.1377786\ttotal: 27s\tremaining: 3.68s\n",
            "880:\tlearn: 0.1376802\ttotal: 27s\tremaining: 3.65s\n",
            "881:\tlearn: 0.1375495\ttotal: 27s\tremaining: 3.62s\n",
            "882:\tlearn: 0.1374137\ttotal: 27.1s\tremaining: 3.58s\n",
            "883:\tlearn: 0.1372208\ttotal: 27.1s\tremaining: 3.55s\n",
            "884:\tlearn: 0.1370814\ttotal: 27.1s\tremaining: 3.52s\n",
            "885:\tlearn: 0.1366688\ttotal: 27.1s\tremaining: 3.49s\n",
            "886:\tlearn: 0.1365065\ttotal: 27.2s\tremaining: 3.46s\n",
            "887:\tlearn: 0.1363220\ttotal: 27.2s\tremaining: 3.43s\n",
            "888:\tlearn: 0.1360616\ttotal: 27.2s\tremaining: 3.4s\n",
            "889:\tlearn: 0.1358717\ttotal: 27.3s\tremaining: 3.37s\n",
            "890:\tlearn: 0.1356656\ttotal: 27.3s\tremaining: 3.34s\n",
            "891:\tlearn: 0.1353734\ttotal: 27.3s\tremaining: 3.31s\n",
            "892:\tlearn: 0.1351533\ttotal: 27.3s\tremaining: 3.28s\n",
            "893:\tlearn: 0.1350221\ttotal: 27.4s\tremaining: 3.25s\n",
            "894:\tlearn: 0.1348025\ttotal: 27.4s\tremaining: 3.22s\n",
            "895:\tlearn: 0.1346006\ttotal: 27.4s\tremaining: 3.19s\n",
            "896:\tlearn: 0.1344751\ttotal: 27.5s\tremaining: 3.15s\n",
            "897:\tlearn: 0.1342669\ttotal: 27.5s\tremaining: 3.12s\n",
            "898:\tlearn: 0.1340277\ttotal: 27.5s\tremaining: 3.09s\n",
            "899:\tlearn: 0.1339547\ttotal: 27.6s\tremaining: 3.06s\n",
            "900:\tlearn: 0.1337648\ttotal: 27.6s\tremaining: 3.03s\n",
            "901:\tlearn: 0.1336783\ttotal: 27.6s\tremaining: 3s\n",
            "902:\tlearn: 0.1334862\ttotal: 27.7s\tremaining: 2.97s\n",
            "903:\tlearn: 0.1333256\ttotal: 27.7s\tremaining: 2.94s\n",
            "904:\tlearn: 0.1331761\ttotal: 27.7s\tremaining: 2.91s\n",
            "905:\tlearn: 0.1329455\ttotal: 27.7s\tremaining: 2.88s\n",
            "906:\tlearn: 0.1327583\ttotal: 27.8s\tremaining: 2.85s\n",
            "907:\tlearn: 0.1325430\ttotal: 27.8s\tremaining: 2.82s\n",
            "908:\tlearn: 0.1324140\ttotal: 27.8s\tremaining: 2.79s\n",
            "909:\tlearn: 0.1322733\ttotal: 27.9s\tremaining: 2.76s\n",
            "910:\tlearn: 0.1321676\ttotal: 27.9s\tremaining: 2.73s\n",
            "911:\tlearn: 0.1319185\ttotal: 27.9s\tremaining: 2.69s\n",
            "912:\tlearn: 0.1317247\ttotal: 28s\tremaining: 2.66s\n",
            "913:\tlearn: 0.1316348\ttotal: 28s\tremaining: 2.63s\n",
            "914:\tlearn: 0.1315243\ttotal: 28s\tremaining: 2.6s\n",
            "915:\tlearn: 0.1312911\ttotal: 28s\tremaining: 2.57s\n",
            "916:\tlearn: 0.1311926\ttotal: 28.1s\tremaining: 2.54s\n",
            "917:\tlearn: 0.1310669\ttotal: 28.1s\tremaining: 2.51s\n",
            "918:\tlearn: 0.1308540\ttotal: 28.1s\tremaining: 2.48s\n",
            "919:\tlearn: 0.1306652\ttotal: 28.2s\tremaining: 2.45s\n",
            "920:\tlearn: 0.1305855\ttotal: 28.2s\tremaining: 2.42s\n",
            "921:\tlearn: 0.1303763\ttotal: 28.2s\tremaining: 2.39s\n",
            "922:\tlearn: 0.1302289\ttotal: 28.3s\tremaining: 2.36s\n",
            "923:\tlearn: 0.1298495\ttotal: 28.3s\tremaining: 2.33s\n",
            "924:\tlearn: 0.1296944\ttotal: 28.3s\tremaining: 2.3s\n",
            "925:\tlearn: 0.1295122\ttotal: 28.3s\tremaining: 2.27s\n",
            "926:\tlearn: 0.1294337\ttotal: 28.4s\tremaining: 2.23s\n",
            "927:\tlearn: 0.1293262\ttotal: 28.4s\tremaining: 2.2s\n",
            "928:\tlearn: 0.1292183\ttotal: 28.4s\tremaining: 2.17s\n",
            "929:\tlearn: 0.1290689\ttotal: 28.5s\tremaining: 2.14s\n",
            "930:\tlearn: 0.1288960\ttotal: 28.5s\tremaining: 2.11s\n",
            "931:\tlearn: 0.1285911\ttotal: 28.5s\tremaining: 2.08s\n",
            "932:\tlearn: 0.1284432\ttotal: 28.6s\tremaining: 2.05s\n",
            "933:\tlearn: 0.1282316\ttotal: 28.6s\tremaining: 2.02s\n",
            "934:\tlearn: 0.1281395\ttotal: 28.6s\tremaining: 1.99s\n",
            "935:\tlearn: 0.1279662\ttotal: 28.7s\tremaining: 1.96s\n",
            "936:\tlearn: 0.1278565\ttotal: 28.7s\tremaining: 1.93s\n",
            "937:\tlearn: 0.1277059\ttotal: 28.7s\tremaining: 1.9s\n",
            "938:\tlearn: 0.1275647\ttotal: 28.7s\tremaining: 1.87s\n",
            "939:\tlearn: 0.1273293\ttotal: 28.8s\tremaining: 1.84s\n",
            "940:\tlearn: 0.1271602\ttotal: 28.8s\tremaining: 1.8s\n",
            "941:\tlearn: 0.1270232\ttotal: 28.8s\tremaining: 1.77s\n",
            "942:\tlearn: 0.1268295\ttotal: 28.9s\tremaining: 1.74s\n",
            "943:\tlearn: 0.1267096\ttotal: 28.9s\tremaining: 1.71s\n",
            "944:\tlearn: 0.1265590\ttotal: 28.9s\tremaining: 1.68s\n",
            "945:\tlearn: 0.1263938\ttotal: 28.9s\tremaining: 1.65s\n",
            "946:\tlearn: 0.1261674\ttotal: 29s\tremaining: 1.62s\n",
            "947:\tlearn: 0.1260734\ttotal: 29s\tremaining: 1.59s\n",
            "948:\tlearn: 0.1260061\ttotal: 29s\tremaining: 1.56s\n",
            "949:\tlearn: 0.1257821\ttotal: 29.1s\tremaining: 1.53s\n",
            "950:\tlearn: 0.1256627\ttotal: 29.1s\tremaining: 1.5s\n",
            "951:\tlearn: 0.1255334\ttotal: 29.1s\tremaining: 1.47s\n",
            "952:\tlearn: 0.1253473\ttotal: 29.2s\tremaining: 1.44s\n",
            "953:\tlearn: 0.1251629\ttotal: 29.2s\tremaining: 1.41s\n",
            "954:\tlearn: 0.1249654\ttotal: 29.2s\tremaining: 1.38s\n",
            "955:\tlearn: 0.1247766\ttotal: 29.2s\tremaining: 1.34s\n",
            "956:\tlearn: 0.1245975\ttotal: 29.3s\tremaining: 1.31s\n",
            "957:\tlearn: 0.1244017\ttotal: 29.3s\tremaining: 1.28s\n",
            "958:\tlearn: 0.1243187\ttotal: 29.3s\tremaining: 1.25s\n",
            "959:\tlearn: 0.1241934\ttotal: 29.4s\tremaining: 1.22s\n",
            "960:\tlearn: 0.1240428\ttotal: 29.4s\tremaining: 1.19s\n",
            "961:\tlearn: 0.1238669\ttotal: 29.4s\tremaining: 1.16s\n",
            "962:\tlearn: 0.1237722\ttotal: 29.5s\tremaining: 1.13s\n",
            "963:\tlearn: 0.1236181\ttotal: 29.5s\tremaining: 1.1s\n",
            "964:\tlearn: 0.1234495\ttotal: 29.5s\tremaining: 1.07s\n",
            "965:\tlearn: 0.1233392\ttotal: 29.6s\tremaining: 1.04s\n",
            "966:\tlearn: 0.1231797\ttotal: 29.6s\tremaining: 1.01s\n",
            "967:\tlearn: 0.1229705\ttotal: 29.6s\tremaining: 979ms\n",
            "968:\tlearn: 0.1227811\ttotal: 29.6s\tremaining: 948ms\n",
            "969:\tlearn: 0.1225764\ttotal: 29.7s\tremaining: 918ms\n",
            "970:\tlearn: 0.1224086\ttotal: 29.7s\tremaining: 887ms\n",
            "971:\tlearn: 0.1222817\ttotal: 29.7s\tremaining: 857ms\n",
            "972:\tlearn: 0.1220989\ttotal: 29.8s\tremaining: 826ms\n",
            "973:\tlearn: 0.1220324\ttotal: 29.8s\tremaining: 795ms\n",
            "974:\tlearn: 0.1218924\ttotal: 29.8s\tremaining: 765ms\n",
            "975:\tlearn: 0.1216737\ttotal: 29.9s\tremaining: 734ms\n",
            "976:\tlearn: 0.1216149\ttotal: 29.9s\tremaining: 704ms\n",
            "977:\tlearn: 0.1215039\ttotal: 29.9s\tremaining: 673ms\n",
            "978:\tlearn: 0.1213915\ttotal: 30s\tremaining: 642ms\n",
            "979:\tlearn: 0.1212640\ttotal: 30s\tremaining: 612ms\n",
            "980:\tlearn: 0.1211185\ttotal: 30s\tremaining: 581ms\n",
            "981:\tlearn: 0.1209549\ttotal: 30s\tremaining: 551ms\n",
            "982:\tlearn: 0.1206854\ttotal: 30.1s\tremaining: 520ms\n",
            "983:\tlearn: 0.1205712\ttotal: 30.1s\tremaining: 489ms\n",
            "984:\tlearn: 0.1204599\ttotal: 30.1s\tremaining: 459ms\n",
            "985:\tlearn: 0.1203201\ttotal: 30.2s\tremaining: 428ms\n",
            "986:\tlearn: 0.1201950\ttotal: 30.2s\tremaining: 398ms\n",
            "987:\tlearn: 0.1200915\ttotal: 30.2s\tremaining: 367ms\n",
            "988:\tlearn: 0.1199085\ttotal: 30.3s\tremaining: 336ms\n",
            "989:\tlearn: 0.1197053\ttotal: 30.3s\tremaining: 306ms\n",
            "990:\tlearn: 0.1196060\ttotal: 30.3s\tremaining: 275ms\n",
            "991:\tlearn: 0.1194738\ttotal: 30.3s\tremaining: 245ms\n",
            "992:\tlearn: 0.1193652\ttotal: 30.4s\tremaining: 214ms\n",
            "993:\tlearn: 0.1192660\ttotal: 30.4s\tremaining: 184ms\n",
            "994:\tlearn: 0.1190805\ttotal: 30.4s\tremaining: 153ms\n",
            "995:\tlearn: 0.1190659\ttotal: 30.5s\tremaining: 122ms\n",
            "996:\tlearn: 0.1188917\ttotal: 30.5s\tremaining: 91.8ms\n",
            "997:\tlearn: 0.1188131\ttotal: 30.5s\tremaining: 61.2ms\n",
            "998:\tlearn: 0.1187241\ttotal: 30.6s\tremaining: 30.6ms\n",
            "999:\tlearn: 0.1185224\ttotal: 30.6s\tremaining: 0us\n"
          ],
          "name": "stdout"
        },
        {
          "output_type": "execute_result",
          "data": {
            "text/plain": [
              "<catboost.core.CatBoostClassifier at 0x7f203c294550>"
            ]
          },
          "metadata": {
            "tags": []
          },
          "execution_count": 39
        }
      ]
    },
    {
      "cell_type": "code",
      "metadata": {
        "colab": {
          "base_uri": "https://localhost:8080/"
        },
        "id": "BVED7biUyv0_",
        "outputId": "f4a0e4ac-9ae2-4c40-b082-6add47d07b29"
      },
      "source": [
        "z = accuracy_score(y_test_df, cat.predict(x_test_df))\n",
        "print(\". Model score: \",z)"
      ],
      "execution_count": null,
      "outputs": [
        {
          "output_type": "stream",
          "text": [
            ". Model score:  0.7601078167115903\n"
          ],
          "name": "stdout"
        }
      ]
    },
    {
      "cell_type": "code",
      "metadata": {
        "colab": {
          "base_uri": "https://localhost:8080/"
        },
        "id": "zVUtiqNQyTT8",
        "outputId": "af4d9d48-0c55-4baf-94d7-5bd381283f95"
      },
      "source": [
        "cm = confusion_matrix(y_test_df, cat.predict(x_test_df))\n",
        "print(cm)"
      ],
      "execution_count": null,
      "outputs": [
        {
          "output_type": "stream",
          "text": [
            "[[  3  17  18]\n",
            " [  3 142  20]\n",
            " [  5  26 137]]\n"
          ],
          "name": "stdout"
        }
      ]
    },
    {
      "cell_type": "markdown",
      "metadata": {
        "id": "d69OlQQnF5zk"
      },
      "source": [
        "##ADABOOST"
      ]
    },
    {
      "cell_type": "code",
      "metadata": {
        "colab": {
          "base_uri": "https://localhost:8080/"
        },
        "id": "6aYZozm2WBTS",
        "outputId": "bcb258e8-e643-4cba-df16-07243bdaed7a"
      },
      "source": [
        "from sklearn.ensemble import AdaBoostClassifier\n",
        "ada = AdaBoostClassifier(n_estimators=100, random_state=0)\n",
        "ada.fit(x_train_df, y_train_df)"
      ],
      "execution_count": null,
      "outputs": [
        {
          "output_type": "execute_result",
          "data": {
            "text/plain": [
              "AdaBoostClassifier(algorithm='SAMME.R', base_estimator=None, learning_rate=1.0,\n",
              "                   n_estimators=100, random_state=0)"
            ]
          },
          "metadata": {
            "tags": []
          },
          "execution_count": 42
        }
      ]
    },
    {
      "cell_type": "code",
      "metadata": {
        "colab": {
          "base_uri": "https://localhost:8080/"
        },
        "id": "XjER92DFGRqU",
        "outputId": "58a87a15-872b-4096-852e-a928814ae51d"
      },
      "source": [
        "z = accuracy_score(y_test_df, ada.predict(x_test_df))\n",
        "print(\". Model score: \",z)"
      ],
      "execution_count": null,
      "outputs": [
        {
          "output_type": "stream",
          "text": [
            ". Model score:  0.628032345013477\n"
          ],
          "name": "stdout"
        }
      ]
    },
    {
      "cell_type": "code",
      "metadata": {
        "colab": {
          "base_uri": "https://localhost:8080/"
        },
        "id": "zT3r8htiGV9D",
        "outputId": "ec790ba4-3edf-4827-aef6-4f7b22645201"
      },
      "source": [
        "cm = confusion_matrix(y_test_df, cat.predict(x_test_df))\n",
        "print(cm)"
      ],
      "execution_count": null,
      "outputs": [
        {
          "output_type": "stream",
          "text": [
            "[[  3  17  18]\n",
            " [  3 142  20]\n",
            " [  5  26 137]]\n"
          ],
          "name": "stdout"
        }
      ]
    },
    {
      "cell_type": "code",
      "metadata": {
        "id": "-0UwPQiyKQWn"
      },
      "source": [
        ""
      ],
      "execution_count": null,
      "outputs": []
    },
    {
      "cell_type": "markdown",
      "metadata": {
        "id": "ennj-hJTOSZO"
      },
      "source": [
        "#EXam\n"
      ]
    },
    {
      "cell_type": "code",
      "metadata": {
        "id": "I8kgT55tOYig"
      },
      "source": [
        "from sklearn.decomposition import PCA\n",
        "from sklearn.neighbors import NeighborhoodComponentsAnalysis\n",
        "n_components=25\n",
        "pca = PCA(n_components=n_components)\n",
        "nca = NeighborhoodComponentsAnalysis(n_components=n_components)"
      ],
      "execution_count": null,
      "outputs": []
    },
    {
      "cell_type": "code",
      "metadata": {
        "id": "as30oV0kOc9t"
      },
      "source": [
        "x_train_pca = nca.fit_transform(x_train_df,y_train_df)\n",
        "x_test_pca = nca.transform(x_test_df)\n",
        "\n",
        "#x_train_pca = pca.fit_transform(x_train_df)\n",
        "#x_test_pca = pca.transform(x_test_df)"
      ],
      "execution_count": null,
      "outputs": []
    },
    {
      "cell_type": "code",
      "metadata": {
        "colab": {
          "base_uri": "https://localhost:8080/"
        },
        "id": "1oSB9pv1Ovfe",
        "outputId": "06082c8c-c869-47e6-f9e0-0dd8884f7979"
      },
      "source": [
        "from xgboost import XGBClassifier\n",
        "xgbc = XGBClassifier()\n",
        "xgbc.fit(x_train_pca, y_train_df)\n",
        "z1 = xgbc.score(x_test_pca, y_test_df)\n",
        "print(\"Accuracy XGBoost:\",z1)"
      ],
      "execution_count": null,
      "outputs": [
        {
          "output_type": "stream",
          "text": [
            "Accuracy XGBoost: 0.6549865229110512\n"
          ],
          "name": "stdout"
        }
      ]
    },
    {
      "cell_type": "code",
      "metadata": {
        "colab": {
          "base_uri": "https://localhost:8080/"
        },
        "id": "JWjuSiKrPX1Q",
        "outputId": "5b30c217-71cd-4334-a179-ff788e498605"
      },
      "source": [
        "from sklearn.ensemble import AdaBoostClassifier\n",
        "ada = AdaBoostClassifier(n_estimators=100, random_state=0)\n",
        "ada.fit(x_train_pca, y_train_df)\n",
        "z2 = accuracy_score(y_test_df, ada.predict(x_test_pca))\n",
        "print(\"Accuracy AdaBoost: \",z2)"
      ],
      "execution_count": null,
      "outputs": [
        {
          "output_type": "stream",
          "text": [
            "Accuracy AdaBoost:  0.5795148247978437\n"
          ],
          "name": "stdout"
        }
      ]
    },
    {
      "cell_type": "code",
      "metadata": {
        "colab": {
          "base_uri": "https://localhost:8080/"
        },
        "id": "Prqu84rMPIyM",
        "outputId": "3b7b0b9c-1c85-4757-8d53-6606aa95038e"
      },
      "source": [
        "from catboost import CatBoostClassifier\n",
        "cat = CatBoostClassifier(silent = True)\n",
        "cat.fit(x_train_pca, y_train_df,)\n",
        "z3 = accuracy_score(y_test_df, cat.predict(x_test_pca))\n",
        "print(\"Accuracy CatBoost: \",z3)"
      ],
      "execution_count": null,
      "outputs": [
        {
          "output_type": "stream",
          "text": [
            "Accuracy CatBoost:  0.7628032345013477\n"
          ],
          "name": "stdout"
        }
      ]
    },
    {
      "cell_type": "code",
      "metadata": {
        "colab": {
          "base_uri": "https://localhost:8080/"
        },
        "id": "sKwO-mEeV7AC",
        "outputId": "3d9aef82-64ee-404e-b5c8-67a9e82beeab"
      },
      "source": [
        "from sklearn.neural_network import MLPClassifier\n",
        "mlp = MLPClassifier()\n",
        "mlp.fit(x_train_pca, y_train_df,)\n",
        "z4 = accuracy_score(y_test_df, mlp.predict(x_test_pca))\n",
        "print(\"Accuracy mlp: \",z4)"
      ],
      "execution_count": null,
      "outputs": [
        {
          "output_type": "stream",
          "text": [
            "Accuracy mlp:  0.6630727762803235\n"
          ],
          "name": "stdout"
        }
      ]
    },
    {
      "cell_type": "code",
      "metadata": {
        "colab": {
          "base_uri": "https://localhost:8080/"
        },
        "id": "RC2CUGwtXu7Y",
        "outputId": "e8bf3da2-b500-4a3f-f7dd-1cac595e7164"
      },
      "source": [
        "from sklearn.gaussian_process import GaussianProcessClassifier\n",
        "gpc = GaussianProcessClassifier()\n",
        "gpc.fit(x_train_pca, y_train_df,)\n",
        "z5 = accuracy_score(y_test_df, gpc.predict(x_test_pca))\n",
        "print(\"Accuracy gpc: \",z5)"
      ],
      "execution_count": null,
      "outputs": [
        {
          "output_type": "stream",
          "text": [
            "Accuracy gpc:  0.5633423180592992\n"
          ],
          "name": "stdout"
        }
      ]
    },
    {
      "cell_type": "code",
      "metadata": {
        "colab": {
          "base_uri": "https://localhost:8080/"
        },
        "id": "-H8FaZwTVvNp",
        "outputId": "24b659c8-5a4d-4877-9943-d72e6d61c9aa"
      },
      "source": [
        "print(\"Accuracy XGBoost:\",z1)\n",
        "print(\"Accuracy AdaBoost: \",z2)\n",
        "print(\"Accuracy CatBoost: \",z3)\n",
        "print(\"Accuracy mlp: \",z4)\n",
        "print(\"Accuracy gpc: \",z5)"
      ],
      "execution_count": null,
      "outputs": [
        {
          "output_type": "stream",
          "text": [
            "Accuracy XGBoost: 0.6549865229110512\n",
            "Accuracy AdaBoost:  0.5795148247978437\n",
            "Accuracy CatBoost:  0.7628032345013477\n",
            "Accuracy mlp:  0.6630727762803235\n",
            "Accuracy gpc:  0.5633423180592992\n"
          ],
          "name": "stdout"
        }
      ]
    },
    {
      "cell_type": "markdown",
      "metadata": {
        "id": "OYjeTBsgEtj5"
      },
      "source": [
        "#LOOP"
      ]
    },
    {
      "cell_type": "code",
      "metadata": {
        "colab": {
          "base_uri": "https://localhost:8080/",
          "height": 410
        },
        "id": "0_Td1khDSvdX",
        "outputId": "88783f2c-c75b-46b6-9af5-46214034b2b6"
      },
      "source": [
        "import seaborn as sns\n",
        "num_field = ['Trend7day']\n",
        "#print(num_field)\n",
        "for field in num_field:\n",
        "    try:\n",
        "        plt.figure(figsize=(12,5))\n",
        "        plt.title(\"Distribution of \" + field)\n",
        "        ax = sns.distplot(df[field])\n",
        "    except:\n",
        "        plt.figure(figsize=(12,5))\n",
        "        plt.title(\"Distribution of \"+ field)\n",
        "        ax = sns.distplot(df[field], kde=False)"
      ],
      "execution_count": null,
      "outputs": [
        {
          "output_type": "stream",
          "text": [
            "/usr/local/lib/python3.7/dist-packages/seaborn/distributions.py:2557: FutureWarning: `distplot` is a deprecated function and will be removed in a future version. Please adapt your code to use either `displot` (a figure-level function with similar flexibility) or `histplot` (an axes-level function for histograms).\n",
            "  warnings.warn(msg, FutureWarning)\n"
          ],
          "name": "stderr"
        },
        {
          "output_type": "display_data",
          "data": {
            "image/png": "[encoded data removed]",
            "text/plain": [
              "<Figure size 864x360 with 1 Axes>"
            ]
          },
          "metadata": {
            "tags": []
          }
        }
      ]
    },
    {
      "cell_type": "markdown",
      "metadata": {
        "id": "wphmGdp1GUAb"
      },
      "source": [
        "##NCA"
      ]
    },
    {
      "cell_type": "code",
      "metadata": {
        "id": "rysDXnU2YeYy",
        "colab": {
          "base_uri": "https://localhost:8080/"
        },
        "outputId": "a25bd795-7083-4d8f-bea2-e8298490bec5"
      },
      "source": [
        "cat_s = []\n",
        "mlp_s = []\n",
        "gpc_s = []\n",
        "svm_s = []\n",
        "n = [5,10,15,20,25,30,35,40,45,50]\n",
        "\n",
        "for i in n:\n",
        "  n_components=i\n",
        "  pca = PCA(n_components=n_components)\n",
        "  nca = NeighborhoodComponentsAnalysis(n_components=n_components)\n",
        "  \n",
        "  x_train_pca = nca.fit_transform(x_train_df,y_train_df)\n",
        "  x_test_pca = nca.transform(x_test_df)\n",
        "\n",
        "  #xgbc = XGBClassifier(n_estimators=500)\n",
        "  #xgbc.fit(x_train_pca, y_train_df)\n",
        "  #z1 = xgbc.score(x_test_pca, y_test_df)\n",
        "\n",
        "  #ada = AdaBoostClassifier(n_estimators=100, random_state=0)\n",
        "  #ada.fit(x_train_pca, y_train_df)\n",
        "  #z2 = accuracy_score(y_test_df, ada.predict(x_test_pca))\n",
        "  \n",
        "  cat = CatBoostClassifier(silent = True)\n",
        "  cat.fit(x_train_pca, y_train_df)\n",
        "  z3 = accuracy_score(y_test_df, cat.predict(x_test_pca))\n",
        "\n",
        "  mlp = MLPClassifier()\n",
        "  mlp.fit(x_train_pca, y_train_df)\n",
        "  z4 = accuracy_score(y_test_df, mlp.predict(x_test_pca))\n",
        "\n",
        " # kernel = 1.0 * RBF(1.0)\n",
        "  gpc = GaussianProcessClassifier()#kernel=kernel)\n",
        "  gpc.fit(x_train_pca, y_train_df)\n",
        "  z5 = accuracy_score(y_test_df, gpc.predict(x_test_pca))\n",
        "\n",
        "  svm = SVC(decision_function_shape='ovo')\n",
        "  svm.fit(x_train_pca,y_train_df)\n",
        "  z6 = accuracy_score(y_test_df, svm.predict(x_test_pca))\n",
        "\n",
        "  cat_s.append(z3)\n",
        "  mlp_s.append(z4)\n",
        "  gpc_s.append(z5)\n",
        "  svm_s.append(z6) \n",
        "  #print(\"Num of features NCA: \",i)\n",
        "  #print(\"Accuracy mlp: \",z4)\n",
        "  #print(\"Accuracy CatBoost: \",z3)\n",
        "  #print(\"Accuracy gpc: \",z5)\n",
        "  #print(\"Accuracy SVM: \",z6)\n",
        "  data = []\n",
        "  data.append(cat_s)\n",
        "  data.append(mlp_s)\n",
        "  data.append(gpc_s)\n",
        "  data.append(svm_s)\n",
        "  NCAR = pd.DataFrame(data=data,index=['cat','mlp','gpc','svm'])"
      ],
      "execution_count": null,
      "outputs": [
        {
          "output_type": "stream",
          "text": [
            "/usr/local/lib/python3.7/dist-packages/sklearn/neural_network/_multilayer_perceptron.py:571: ConvergenceWarning: Stochastic Optimizer: Maximum iterations (200) reached and the optimization hasn't converged yet.\n",
            "  % self.max_iter, ConvergenceWarning)\n",
            "/usr/local/lib/python3.7/dist-packages/sklearn/neural_network/_multilayer_perceptron.py:571: ConvergenceWarning: Stochastic Optimizer: Maximum iterations (200) reached and the optimization hasn't converged yet.\n",
            "  % self.max_iter, ConvergenceWarning)\n",
            "/usr/local/lib/python3.7/dist-packages/sklearn/neural_network/_multilayer_perceptron.py:571: ConvergenceWarning: Stochastic Optimizer: Maximum iterations (200) reached and the optimization hasn't converged yet.\n",
            "  % self.max_iter, ConvergenceWarning)\n",
            "/usr/local/lib/python3.7/dist-packages/sklearn/neural_network/_multilayer_perceptron.py:571: ConvergenceWarning: Stochastic Optimizer: Maximum iterations (200) reached and the optimization hasn't converged yet.\n",
            "  % self.max_iter, ConvergenceWarning)\n",
            "/usr/local/lib/python3.7/dist-packages/sklearn/neural_network/_multilayer_perceptron.py:571: ConvergenceWarning: Stochastic Optimizer: Maximum iterations (200) reached and the optimization hasn't converged yet.\n",
            "  % self.max_iter, ConvergenceWarning)\n"
          ],
          "name": "stderr"
        }
      ]
    },
    {
      "cell_type": "markdown",
      "metadata": {
        "id": "OzZq-OdiaMrs"
      },
      "source": [
        "##PCA"
      ]
    },
    {
      "cell_type": "code",
      "metadata": {
        "id": "JFUQnQTFyFrJ",
        "colab": {
          "base_uri": "https://localhost:8080/"
        },
        "outputId": "b83cc4e6-ef59-4f9c-fbb0-24117c8e8c61"
      },
      "source": [
        "cat_s = []\n",
        "mlp_s = []\n",
        "gpc_s = []\n",
        "svm_s = []\n",
        "n = [5,10,15,20,25,30,35,40,45,50]\n",
        "\n",
        "for i in n:\n",
        "  n_components=i\n",
        "  pca = PCA(n_components=n_components)\n",
        "  nca = NeighborhoodComponentsAnalysis(n_components=n_components)\n",
        "  \n",
        "  x_train_pca = pca.fit_transform(x_train_df,y_train_df)\n",
        "  x_test_pca = pca.transform(x_test_df)\n",
        "\n",
        "  \n",
        "  #xgbc = XGBClassifier(n_estimators=500)\n",
        "  #xgbc.fit(x_train_pca, y_train_df)\n",
        "  #z1 = xgbc.score(x_test_pca, y_test_df)\n",
        "\n",
        "  #ada = AdaBoostClassifier(n_estimators=100, random_state=0)\n",
        "  #ada.fit(x_train_pca, y_train_df)\n",
        "  #z2 = accuracy_score(y_test_df, ada.predict(x_test_pca))\n",
        "  \n",
        "  cat = CatBoostClassifier(silent = True)\n",
        "  cat.fit(x_train_pca, y_train_df,)\n",
        "  z3 = accuracy_score(y_test_df, cat.predict(x_test_pca))\n",
        "\n",
        "  mlp = MLPClassifier()\n",
        "  mlp.fit(x_train_pca, y_train_df,)\n",
        "  z4 = accuracy_score(y_test_df, mlp.predict(x_test_pca))\n",
        "\n",
        "  #kernel = 1.0 * RBF(1.0)\n",
        "  gpc = GaussianProcessClassifier()#kernel=kernel)\n",
        "  gpc.fit(x_train_pca, y_train_df,)\n",
        "  z5 = accuracy_score(y_test_df, gpc.predict(x_test_pca))\n",
        "\n",
        "  svm = SVC(decision_function_shape='ovo')\n",
        "  svm.fit(x_train_pca,y_train_df)\n",
        "  z6 = accuracy_score(y_test_df, svm.predict(x_test_pca))\n",
        "\n",
        "  cat_s.append(z3)\n",
        "  mlp_s.append(z4)\n",
        "  gpc_s.append(z5)\n",
        "  svm_s.append(z6) \n",
        "\n",
        "  #print(\"Num of features PCA: \",i)\n",
        "  #print(\"Accuracy mlp: \",z4)\n",
        "  #print(\"Accuracy CatBoost: \",z3)\n",
        "  #print(\"Accuracy gpc: \",z5)\n",
        "  #print(\"Accuracy SVM: \",z6)\n",
        "data = []\n",
        "data.append(cat_s)\n",
        "data.append(mlp_s)\n",
        "data.append(gpc_s)\n",
        "data.append(svm_s)\n",
        "PCAR = pd.DataFrame(data=data,index=['cat','mlp','gpc','svm'])"
      ],
      "execution_count": null,
      "outputs": [
        {
          "output_type": "stream",
          "text": [
            "/usr/local/lib/python3.7/dist-packages/sklearn/neural_network/_multilayer_perceptron.py:571: ConvergenceWarning: Stochastic Optimizer: Maximum iterations (200) reached and the optimization hasn't converged yet.\n",
            "  % self.max_iter, ConvergenceWarning)\n",
            "/usr/local/lib/python3.7/dist-packages/sklearn/neural_network/_multilayer_perceptron.py:571: ConvergenceWarning: Stochastic Optimizer: Maximum iterations (200) reached and the optimization hasn't converged yet.\n",
            "  % self.max_iter, ConvergenceWarning)\n",
            "/usr/local/lib/python3.7/dist-packages/sklearn/neural_network/_multilayer_perceptron.py:571: ConvergenceWarning: Stochastic Optimizer: Maximum iterations (200) reached and the optimization hasn't converged yet.\n",
            "  % self.max_iter, ConvergenceWarning)\n",
            "/usr/local/lib/python3.7/dist-packages/sklearn/neural_network/_multilayer_perceptron.py:571: ConvergenceWarning: Stochastic Optimizer: Maximum iterations (200) reached and the optimization hasn't converged yet.\n",
            "  % self.max_iter, ConvergenceWarning)\n",
            "/usr/local/lib/python3.7/dist-packages/sklearn/neural_network/_multilayer_perceptron.py:571: ConvergenceWarning: Stochastic Optimizer: Maximum iterations (200) reached and the optimization hasn't converged yet.\n",
            "  % self.max_iter, ConvergenceWarning)\n",
            "/usr/local/lib/python3.7/dist-packages/sklearn/neural_network/_multilayer_perceptron.py:571: ConvergenceWarning: Stochastic Optimizer: Maximum iterations (200) reached and the optimization hasn't converged yet.\n",
            "  % self.max_iter, ConvergenceWarning)\n",
            "/usr/local/lib/python3.7/dist-packages/sklearn/neural_network/_multilayer_perceptron.py:571: ConvergenceWarning: Stochastic Optimizer: Maximum iterations (200) reached and the optimization hasn't converged yet.\n",
            "  % self.max_iter, ConvergenceWarning)\n",
            "/usr/local/lib/python3.7/dist-packages/sklearn/neural_network/_multilayer_perceptron.py:571: ConvergenceWarning: Stochastic Optimizer: Maximum iterations (200) reached and the optimization hasn't converged yet.\n",
            "  % self.max_iter, ConvergenceWarning)\n",
            "/usr/local/lib/python3.7/dist-packages/sklearn/neural_network/_multilayer_perceptron.py:571: ConvergenceWarning: Stochastic Optimizer: Maximum iterations (200) reached and the optimization hasn't converged yet.\n",
            "  % self.max_iter, ConvergenceWarning)\n",
            "/usr/local/lib/python3.7/dist-packages/sklearn/neural_network/_multilayer_perceptron.py:571: ConvergenceWarning: Stochastic Optimizer: Maximum iterations (200) reached and the optimization hasn't converged yet.\n",
            "  % self.max_iter, ConvergenceWarning)\n"
          ],
          "name": "stderr"
        }
      ]
    },
    {
      "cell_type": "markdown",
      "metadata": {
        "id": "CEPI92w8Ev0p"
      },
      "source": [
        "##Select"
      ]
    },
    {
      "cell_type": "code",
      "metadata": {
        "colab": {
          "base_uri": "https://localhost:8080/"
        },
        "id": "xCYB2OOxCfWR",
        "outputId": "684cedb1-44ad-45a5-ab65-33f5ef3d846f"
      },
      "source": [
        "clf=RandomForestClassifier(n_estimators=100)\n",
        "X_train = x_train_df\n",
        "y_train = y_train_df\n",
        "clf.fit(X_train,y_train)\n",
        "feature_imp = pd.Series(clf.feature_importances_,index=df.iloc[:,0:52].columns).sort_values(ascending=False)\n",
        "\n",
        "cat_s = []\n",
        "mlp_s = []\n",
        "gpc_s = []\n",
        "svm_s = []\n",
        "n = [5,10,15,20,25,30,35,40,45,50]\n",
        "for i in n:\n",
        "\n",
        "  id = feature_imp[0:i].index\n",
        "  x= df[id]\n",
        "  y= df['Trend7day']\n",
        "  sc=StandardScaler(copy=True, with_mean=True, with_std=True)\n",
        "  x_normal =sc.fit_transform(x)\n",
        "  #select\n",
        "  x_train_pca , x_test_pca, y_train_df, y_test_df = train_test_split(x_normal,y,test_size=0.2,random_state=0)\n",
        "\n",
        "\n",
        "  n_components=i\n",
        "  pca = PCA(n_components=n_components)\n",
        "  nca = NeighborhoodComponentsAnalysis(n_components=n_components)\n",
        "  \n",
        "\n",
        "  #nca\n",
        "  #x_train_pca = nca.fit_transform(x_train_df,y_train_df)\n",
        "  #x_test_pca = nca.transform(x_test_df)\n",
        "  #pca\n",
        "  #x_train_pca = pca.fit_transform(x_train_df,y_train_df)\n",
        "  #x_test_pca = pca.transform(x_test_df)\n",
        "\n",
        "  #xgbc = XGBClassifier(n_estimators=500)\n",
        "  #xgbc.fit(x_train_pca, y_train_df)\n",
        "  #z1 = xgbc.score(x_test_pca, y_test_df)\n",
        "\n",
        "  #ada = AdaBoostClassifier(n_estimators=100, random_state=0)\n",
        "  #ada.fit(x_train_pca, y_train_df)\n",
        "  #z2 = accuracy_score(y_test_df, ada.predict(x_test_pca))\n",
        "  \n",
        "  cat = CatBoostClassifier(silent = True)\n",
        "  cat.fit(x_train_pca, y_train_df,)\n",
        "  z3 = accuracy_score(y_test_df, cat.predict(x_test_pca))\n",
        "\n",
        "  mlp = MLPClassifier()\n",
        "  mlp.fit(x_train_pca, y_train_df,)\n",
        "  z4 = accuracy_score(y_test_df, mlp.predict(x_test_pca))\n",
        "\n",
        "  #kernel = 1.0 * RBF(1.0)\n",
        "  gpc = GaussianProcessClassifier()#kernel=kernel)\n",
        "  gpc.fit(x_train_pca, y_train_df)\n",
        "  z5 = accuracy_score(y_test_df, gpc.predict(x_test_pca))\n",
        "\n",
        "  svm = SVC(decision_function_shape='ovo')\n",
        "  svm.fit(x_train_pca,y_train_df)\n",
        "  z6 = accuracy_score(y_test_df, svm.predict(x_test_pca))\n",
        "\n",
        "  #xgbc_s.append()\n",
        "  #ada_s = []\n",
        "  cat_s.append(z3)\n",
        "  mlp_s.append(z4)\n",
        "  gpc_s.append(z5)\n",
        "  svm_s.append(z6) \n",
        "\n",
        "  #print(\"Num of features PCA: \",i)\n",
        "  #print(\"Accuracy XGBoost: \",z1)\n",
        "  #print(\"Accuracy AdaBoost: \",z2)\n",
        "  #print(\"Accuracy mlp: \",z4)\n",
        "  #print(\"Accuracy CatBoost: \",z3)\n",
        "  #print(\"Accuracy gpc: \",z5)\n",
        "  #print(\"Accuracy SVM: \",z6)\n",
        "data = []\n",
        "data.append(cat_s)\n",
        "data.append(mlp_s)\n",
        "data.append(gpc_s)\n",
        "data.append(svm_s)\n",
        "SelectR = pd.DataFrame(data=data,index=['cat','mlp','gpc','svm'])"
      ],
      "execution_count": null,
      "outputs": [
        {
          "output_type": "stream",
          "text": [
            "/usr/local/lib/python3.7/dist-packages/sklearn/neural_network/_multilayer_perceptron.py:571: ConvergenceWarning: Stochastic Optimizer: Maximum iterations (200) reached and the optimization hasn't converged yet.\n",
            "  % self.max_iter, ConvergenceWarning)\n",
            "/usr/local/lib/python3.7/dist-packages/sklearn/neural_network/_multilayer_perceptron.py:571: ConvergenceWarning: Stochastic Optimizer: Maximum iterations (200) reached and the optimization hasn't converged yet.\n",
            "  % self.max_iter, ConvergenceWarning)\n",
            "/usr/local/lib/python3.7/dist-packages/sklearn/neural_network/_multilayer_perceptron.py:571: ConvergenceWarning: Stochastic Optimizer: Maximum iterations (200) reached and the optimization hasn't converged yet.\n",
            "  % self.max_iter, ConvergenceWarning)\n",
            "/usr/local/lib/python3.7/dist-packages/sklearn/neural_network/_multilayer_perceptron.py:571: ConvergenceWarning: Stochastic Optimizer: Maximum iterations (200) reached and the optimization hasn't converged yet.\n",
            "  % self.max_iter, ConvergenceWarning)\n",
            "/usr/local/lib/python3.7/dist-packages/sklearn/neural_network/_multilayer_perceptron.py:571: ConvergenceWarning: Stochastic Optimizer: Maximum iterations (200) reached and the optimization hasn't converged yet.\n",
            "  % self.max_iter, ConvergenceWarning)\n",
            "/usr/local/lib/python3.7/dist-packages/sklearn/neural_network/_multilayer_perceptron.py:571: ConvergenceWarning: Stochastic Optimizer: Maximum iterations (200) reached and the optimization hasn't converged yet.\n",
            "  % self.max_iter, ConvergenceWarning)\n",
            "/usr/local/lib/python3.7/dist-packages/sklearn/neural_network/_multilayer_perceptron.py:571: ConvergenceWarning: Stochastic Optimizer: Maximum iterations (200) reached and the optimization hasn't converged yet.\n",
            "  % self.max_iter, ConvergenceWarning)\n",
            "/usr/local/lib/python3.7/dist-packages/sklearn/neural_network/_multilayer_perceptron.py:571: ConvergenceWarning: Stochastic Optimizer: Maximum iterations (200) reached and the optimization hasn't converged yet.\n",
            "  % self.max_iter, ConvergenceWarning)\n",
            "/usr/local/lib/python3.7/dist-packages/sklearn/neural_network/_multilayer_perceptron.py:571: ConvergenceWarning: Stochastic Optimizer: Maximum iterations (200) reached and the optimization hasn't converged yet.\n",
            "  % self.max_iter, ConvergenceWarning)\n",
            "/usr/local/lib/python3.7/dist-packages/sklearn/neural_network/_multilayer_perceptron.py:571: ConvergenceWarning: Stochastic Optimizer: Maximum iterations (200) reached and the optimization hasn't converged yet.\n",
            "  % self.max_iter, ConvergenceWarning)\n"
          ],
          "name": "stderr"
        }
      ]
    },
    {
      "cell_type": "markdown",
      "metadata": {
        "id": "icc3TzcZa8o0"
      },
      "source": [
        "#Result"
      ]
    },
    {
      "cell_type": "code",
      "metadata": {
        "colab": {
          "base_uri": "https://localhost:8080/"
        },
        "id": "D2j3XY_sbAFq",
        "outputId": "8692ac6b-8bc4-4fda-cba1-979d007caff7"
      },
      "source": [
        "PCAR"
      ],
      "execution_count": null,
      "outputs": [
        {
          "output_type": "execute_result",
          "data": {
            "text/html": [
              "<div>\n",
              "<style scoped>\n",
              "    .dataframe tbody tr th:only-of-type {\n",
              "        vertical-align: middle;\n",
              "    }\n",
              "\n",
              "    .dataframe tbody tr th {\n",
              "        vertical-align: top;\n",
              "    }\n",
              "\n",
              "    .dataframe thead th {\n",
              "        text-align: right;\n",
              "    }\n",
              "</style>\n",
              "<table border=\"1\" class=\"dataframe\">\n",
              "  <thead>\n",
              "    <tr style=\"text-align: right;\">\n",
              "      <th></th>\n",
              "      <th>0</th>\n",
              "      <th>1</th>\n",
              "      <th>2</th>\n",
              "      <th>3</th>\n",
              "      <th>4</th>\n",
              "      <th>5</th>\n",
              "      <th>6</th>\n",
              "      <th>7</th>\n",
              "      <th>8</th>\n",
              "      <th>9</th>\n",
              "    </tr>\n",
              "  </thead>\n",
              "  <tbody>\n",
              "    <tr>\n",
              "      <th>cat</th>\n",
              "      <td>0.710356</td>\n",
              "      <td>0.736246</td>\n",
              "      <td>0.776699</td>\n",
              "      <td>0.755663</td>\n",
              "      <td>0.783172</td>\n",
              "      <td>0.766990</td>\n",
              "      <td>0.775081</td>\n",
              "      <td>0.788026</td>\n",
              "      <td>0.771845</td>\n",
              "      <td>0.775081</td>\n",
              "    </tr>\n",
              "    <tr>\n",
              "      <th>mlp</th>\n",
              "      <td>0.631068</td>\n",
              "      <td>0.660194</td>\n",
              "      <td>0.707120</td>\n",
              "      <td>0.726537</td>\n",
              "      <td>0.731392</td>\n",
              "      <td>0.752427</td>\n",
              "      <td>0.757282</td>\n",
              "      <td>0.776699</td>\n",
              "      <td>0.750809</td>\n",
              "      <td>0.745955</td>\n",
              "    </tr>\n",
              "    <tr>\n",
              "      <th>gpc</th>\n",
              "      <td>0.710356</td>\n",
              "      <td>0.762136</td>\n",
              "      <td>0.797735</td>\n",
              "      <td>0.788026</td>\n",
              "      <td>0.796117</td>\n",
              "      <td>0.797735</td>\n",
              "      <td>0.797735</td>\n",
              "      <td>0.797735</td>\n",
              "      <td>0.797735</td>\n",
              "      <td>0.797735</td>\n",
              "    </tr>\n",
              "    <tr>\n",
              "      <th>svm</th>\n",
              "      <td>0.600324</td>\n",
              "      <td>0.610032</td>\n",
              "      <td>0.647249</td>\n",
              "      <td>0.645631</td>\n",
              "      <td>0.652104</td>\n",
              "      <td>0.653722</td>\n",
              "      <td>0.652104</td>\n",
              "      <td>0.652104</td>\n",
              "      <td>0.652104</td>\n",
              "      <td>0.652104</td>\n",
              "    </tr>\n",
              "  </tbody>\n",
              "</table>\n",
              "</div>"
            ],
            "text/plain": [
              "            0         1         2  ...         7         8         9\n",
              "cat  0.710356  0.736246  0.776699  ...  0.788026  0.771845  0.775081\n",
              "mlp  0.631068  0.660194  0.707120  ...  0.776699  0.750809  0.745955\n",
              "gpc  0.710356  0.762136  0.797735  ...  0.797735  0.797735  0.797735\n",
              "svm  0.600324  0.610032  0.647249  ...  0.652104  0.652104  0.652104\n",
              "\n",
              "[4 rows x 10 columns]"
            ]
          },
          "metadata": {
            "tags": []
          },
          "execution_count": 24
        }
      ]
    },
    {
      "cell_type": "code",
      "metadata": {
        "colab": {
          "base_uri": "https://localhost:8080/"
        },
        "id": "OFkinEtybDXZ",
        "outputId": "eda2e6b3-5fc4-4d5a-fc70-1311175a39d6"
      },
      "source": [
        "NCAR"
      ],
      "execution_count": null,
      "outputs": [
        {
          "output_type": "execute_result",
          "data": {
            "text/html": [
              "<div>\n",
              "<style scoped>\n",
              "    .dataframe tbody tr th:only-of-type {\n",
              "        vertical-align: middle;\n",
              "    }\n",
              "\n",
              "    .dataframe tbody tr th {\n",
              "        vertical-align: top;\n",
              "    }\n",
              "\n",
              "    .dataframe thead th {\n",
              "        text-align: right;\n",
              "    }\n",
              "</style>\n",
              "<table border=\"1\" class=\"dataframe\">\n",
              "  <thead>\n",
              "    <tr style=\"text-align: right;\">\n",
              "      <th></th>\n",
              "      <th>0</th>\n",
              "      <th>1</th>\n",
              "      <th>2</th>\n",
              "      <th>3</th>\n",
              "      <th>4</th>\n",
              "      <th>5</th>\n",
              "      <th>6</th>\n",
              "      <th>7</th>\n",
              "      <th>8</th>\n",
              "      <th>9</th>\n",
              "    </tr>\n",
              "  </thead>\n",
              "  <tbody>\n",
              "    <tr>\n",
              "      <th>cat</th>\n",
              "      <td>0.760518</td>\n",
              "      <td>0.762136</td>\n",
              "      <td>0.754045</td>\n",
              "      <td>0.739482</td>\n",
              "      <td>0.741100</td>\n",
              "      <td>0.758900</td>\n",
              "      <td>0.752427</td>\n",
              "      <td>0.776699</td>\n",
              "      <td>0.747573</td>\n",
              "      <td>0.733010</td>\n",
              "    </tr>\n",
              "    <tr>\n",
              "      <th>mlp</th>\n",
              "      <td>0.639159</td>\n",
              "      <td>0.676375</td>\n",
              "      <td>0.715210</td>\n",
              "      <td>0.682848</td>\n",
              "      <td>0.723301</td>\n",
              "      <td>0.715210</td>\n",
              "      <td>0.681230</td>\n",
              "      <td>0.703883</td>\n",
              "      <td>0.689320</td>\n",
              "      <td>0.726537</td>\n",
              "    </tr>\n",
              "    <tr>\n",
              "      <th>gpc</th>\n",
              "      <td>0.588997</td>\n",
              "      <td>0.619741</td>\n",
              "      <td>0.563107</td>\n",
              "      <td>0.517799</td>\n",
              "      <td>0.592233</td>\n",
              "      <td>0.538835</td>\n",
              "      <td>0.542071</td>\n",
              "      <td>0.538835</td>\n",
              "      <td>0.551780</td>\n",
              "      <td>0.556634</td>\n",
              "    </tr>\n",
              "    <tr>\n",
              "      <th>svm</th>\n",
              "      <td>0.608414</td>\n",
              "      <td>0.622977</td>\n",
              "      <td>0.608414</td>\n",
              "      <td>0.637540</td>\n",
              "      <td>0.626214</td>\n",
              "      <td>0.634304</td>\n",
              "      <td>0.640777</td>\n",
              "      <td>0.632686</td>\n",
              "      <td>0.634304</td>\n",
              "      <td>0.635922</td>\n",
              "    </tr>\n",
              "  </tbody>\n",
              "</table>\n",
              "</div>"
            ],
            "text/plain": [
              "            0         1         2  ...         7         8         9\n",
              "cat  0.760518  0.762136  0.754045  ...  0.776699  0.747573  0.733010\n",
              "mlp  0.639159  0.676375  0.715210  ...  0.703883  0.689320  0.726537\n",
              "gpc  0.588997  0.619741  0.563107  ...  0.538835  0.551780  0.556634\n",
              "svm  0.608414  0.622977  0.608414  ...  0.632686  0.634304  0.635922\n",
              "\n",
              "[4 rows x 10 columns]"
            ]
          },
          "metadata": {
            "tags": []
          },
          "execution_count": 25
        }
      ]
    },
    {
      "cell_type": "code",
      "metadata": {
        "colab": {
          "base_uri": "https://localhost:8080/"
        },
        "id": "YCo7Gn5qbE1h",
        "outputId": "c9e8ad91-6a67-494b-cd50-f21659308e70"
      },
      "source": [
        "SelectR"
      ],
      "execution_count": null,
      "outputs": [
        {
          "output_type": "execute_result",
          "data": {
            "text/html": [
              "<div>\n",
              "<style scoped>\n",
              "    .dataframe tbody tr th:only-of-type {\n",
              "        vertical-align: middle;\n",
              "    }\n",
              "\n",
              "    .dataframe tbody tr th {\n",
              "        vertical-align: top;\n",
              "    }\n",
              "\n",
              "    .dataframe thead th {\n",
              "        text-align: right;\n",
              "    }\n",
              "</style>\n",
              "<table border=\"1\" class=\"dataframe\">\n",
              "  <thead>\n",
              "    <tr style=\"text-align: right;\">\n",
              "      <th></th>\n",
              "      <th>0</th>\n",
              "      <th>1</th>\n",
              "      <th>2</th>\n",
              "      <th>3</th>\n",
              "      <th>4</th>\n",
              "      <th>5</th>\n",
              "      <th>6</th>\n",
              "      <th>7</th>\n",
              "      <th>8</th>\n",
              "      <th>9</th>\n",
              "    </tr>\n",
              "  </thead>\n",
              "  <tbody>\n",
              "    <tr>\n",
              "      <th>cat</th>\n",
              "      <td>0.812298</td>\n",
              "      <td>0.807443</td>\n",
              "      <td>0.809061</td>\n",
              "      <td>0.810680</td>\n",
              "      <td>0.818770</td>\n",
              "      <td>0.799353</td>\n",
              "      <td>0.807443</td>\n",
              "      <td>0.804207</td>\n",
              "      <td>0.815534</td>\n",
              "      <td>0.822006</td>\n",
              "    </tr>\n",
              "    <tr>\n",
              "      <th>mlp</th>\n",
              "      <td>0.622977</td>\n",
              "      <td>0.682848</td>\n",
              "      <td>0.724919</td>\n",
              "      <td>0.749191</td>\n",
              "      <td>0.747573</td>\n",
              "      <td>0.739482</td>\n",
              "      <td>0.736246</td>\n",
              "      <td>0.737864</td>\n",
              "      <td>0.739482</td>\n",
              "      <td>0.741100</td>\n",
              "    </tr>\n",
              "    <tr>\n",
              "      <th>gpc</th>\n",
              "      <td>0.637540</td>\n",
              "      <td>0.728155</td>\n",
              "      <td>0.762136</td>\n",
              "      <td>0.812298</td>\n",
              "      <td>0.820388</td>\n",
              "      <td>0.799353</td>\n",
              "      <td>0.805825</td>\n",
              "      <td>0.807443</td>\n",
              "      <td>0.810680</td>\n",
              "      <td>0.810680</td>\n",
              "    </tr>\n",
              "    <tr>\n",
              "      <th>svm</th>\n",
              "      <td>0.613269</td>\n",
              "      <td>0.639159</td>\n",
              "      <td>0.634304</td>\n",
              "      <td>0.700647</td>\n",
              "      <td>0.707120</td>\n",
              "      <td>0.673139</td>\n",
              "      <td>0.669903</td>\n",
              "      <td>0.668285</td>\n",
              "      <td>0.655340</td>\n",
              "      <td>0.658576</td>\n",
              "    </tr>\n",
              "  </tbody>\n",
              "</table>\n",
              "</div>"
            ],
            "text/plain": [
              "            0         1         2  ...         7         8         9\n",
              "cat  0.812298  0.807443  0.809061  ...  0.804207  0.815534  0.822006\n",
              "mlp  0.622977  0.682848  0.724919  ...  0.737864  0.739482  0.741100\n",
              "gpc  0.637540  0.728155  0.762136  ...  0.807443  0.810680  0.810680\n",
              "svm  0.613269  0.639159  0.634304  ...  0.668285  0.655340  0.658576\n",
              "\n",
              "[4 rows x 10 columns]"
            ]
          },
          "metadata": {
            "tags": []
          },
          "execution_count": 26
        }
      ]
    }
  ]
}